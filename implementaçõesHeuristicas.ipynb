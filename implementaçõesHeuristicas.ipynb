{
 "cells": [
  {
   "cell_type": "markdown",
   "metadata": {},
   "source": [
    "#### Libs"
   ]
  },
  {
   "cell_type": "code",
   "execution_count": null,
   "metadata": {},
   "outputs": [],
   "source": [
    "import random\n",
    "import copy \n",
    "import numpy   as np\n",
    "import pandas  as pd\n",
    "import seaborn as sea\n",
    "import matplotlib.pyplot as plt"
   ]
  },
  {
   "cell_type": "markdown",
   "metadata": {},
   "source": [
    "## Heuristica"
   ]
  },
  {
   "cell_type": "markdown",
   "metadata": {},
   "source": [
    "São comumente usados para resolver problemas grandes. São metodos  que fornece soluções factíveis, não necessariamente ótimas, em tempo relativamente pequeno.\n",
    "Muitas das regras e decisões em PCP e Logísticas são heurísticas\n",
    "\n",
    "**Heuristicas Construtivas:** controem um solução inicial para o problema, sem partir de um solução anterior\n",
    "\n",
    "**Heuristicas de busca local:** melhoram uma soluçao já existente, por meio de movimentos(mudanças) sobre essa solução.\n",
    "\n",
    "**Meta-heurístias:** Heurísticas que guiam heurísticas. Ex: Busca tabu, Colonias de formigas, Simulated Annealing..\n"
   ]
  },
  {
   "cell_type": "markdown",
   "metadata": {},
   "source": [
    "### Problema de mochila\n",
    "\n",
    "$$\n",
    "max{\\sum{P_iX_i}}     \\\\\n",
    "s.a \\\\ \n",
    "\\sum{W_i*X_i} <= W\n",
    "$$"
   ]
  },
  {
   "cell_type": "markdown",
   "metadata": {},
   "source": [
    "1. Ordenar os itens de ordem decrescente da utilidade relativa $\\frac{u_i}{p_i}$ \n",
    "    * sendo que indica o item que está na posição\n",
    "2. Na ordem definidia, escolhe os itens integralmente (fazendo $x_i$ = 1) até atingir a capacidade da mochila(sem violá-la)\n"
   ]
  },
  {
   "cell_type": "code",
   "execution_count": 2,
   "metadata": {},
   "outputs": [],
   "source": [
    "# Ordenar os itens por utilidade relativa\n",
    "def utilidade_relativa(utilidade, peso):\n",
    "    # Calcular a utilidade relativa\n",
    "    dict = {enum_ : round((u_i/p_i),2) for enum_,(u_i, p_i) in enumerate(zip(utilidade , peso))}\n",
    "    \n",
    "    # Ordenar o dicionário por utilidade relativa\n",
    "    return sorted(\n",
    "        dict.items(), \n",
    "        key = lambda item: item[1], \n",
    "        reverse = True\n",
    "        )"
   ]
  },
  {
   "cell_type": "code",
   "execution_count": 3,
   "metadata": {},
   "outputs": [],
   "source": [
    "\n",
    "# Maximar a utilidade, sem ultrapassar o peso máximo\n",
    "def mochilaGulosaConstrutiva(U_, P_, W_=5):\n",
    "    # Ordenar os itens por utilidade relativa\n",
    "    itens = utilidade_relativa(U_, P_)\n",
    "    print(pd.DataFrame(itens, columns=['Item', 'Utilidade Relativa']))\n",
    "    \n",
    "    # Inicializar variáveis\n",
    "    custo_total = 0\n",
    "    utilidade_total = 0\n",
    "    \n",
    "    # Escolhendo os que tem melhor critério\n",
    "    solucao = {}\n",
    "\n",
    "    print(\"\\n\", \"_\"*50, \"\\n\")\n",
    "    # Iterar sobre os itens\n",
    "    for item in itens:\n",
    "        # Verificar se o peso do item não ultrapassa o peso máximo\n",
    "        if custo_total + P_[item[0]] <= W_:\n",
    "            # Atualizando o custo total\n",
    "            custo_total = custo_total + P_[item[0]]\n",
    "\n",
    "            # Atualizando a utilidade relativa total\n",
    "            utilidade_total += U_[item[0]] \n",
    "            # Adicionando o item na solução\n",
    "            solucao[item[0]] = P_[item[0]]\n",
    "\n",
    "            print(\" custo total = \", custo_total, \" items adiciondo \", item[0])\n",
    "        else : \n",
    "            print(f\" item {item[0]} não foi adicionado, pois ultrapassa o peso máximo\")\n",
    "\n",
    "    # Retornar a solução e o custo total\n",
    "    print(f\"\"\"\n",
    "Solução.........: {solucao} \n",
    "Custo total.....: {custo_total} \n",
    "Utilidade total.: {utilidade_total}\n",
    "    \"\"\")\n",
    "    return solucao, custo_total"
   ]
  },
  {
   "cell_type": "code",
   "execution_count": 4,
   "metadata": {},
   "outputs": [],
   "source": [
    "# peso_maximo = 5kg\n",
    "peso_maximo = 5\n",
    "utilidade = [\n",
    "    6, \n",
    "    9, \n",
    "    7, \n",
    "    3, \n",
    "    5, \n",
    "    10, \n",
    "    2, \n",
    "    6\n",
    "]\n",
    "peso_gramas = [\n",
    "    200,\n",
    "    1000,\n",
    "    400,\n",
    "    400,\n",
    "    200,\n",
    "    3000,\n",
    "    100,\n",
    "    500\n",
    "]\n",
    "peso_kg = [p/1000 for p in peso_gramas]\n"
   ]
  },
  {
   "cell_type": "code",
   "execution_count": 5,
   "metadata": {},
   "outputs": [
    {
     "name": "stdout",
     "output_type": "stream",
     "text": [
      "   Item  Utilidade Relativa\n",
      "0     0               30.00\n",
      "1     4               25.00\n",
      "2     6               20.00\n",
      "3     2               17.50\n",
      "4     7               12.00\n",
      "5     1                9.00\n",
      "6     3                7.50\n",
      "7     5                3.33\n",
      "\n",
      " __________________________________________________ \n",
      "\n",
      " custo total =  0.2  items adiciondo  0\n",
      " custo total =  0.4  items adiciondo  4\n",
      " custo total =  0.5  items adiciondo  6\n",
      " custo total =  0.9  items adiciondo  2\n",
      " custo total =  1.4  items adiciondo  7\n",
      " custo total =  2.4  items adiciondo  1\n",
      " custo total =  2.8  items adiciondo  3\n",
      " item 5 não foi adicionado, pois ultrapassa o peso máximo\n",
      "\n",
      "Solução.........: {0: 0.2, 4: 0.2, 6: 0.1, 2: 0.4, 7: 0.5, 1: 1.0, 3: 0.4} \n",
      "Custo total.....: 2.8 \n",
      "Utilidade total.: 38\n",
      "    \n"
     ]
    },
    {
     "data": {
      "text/plain": [
       "({0: 0.2, 4: 0.2, 6: 0.1, 2: 0.4, 7: 0.5, 1: 1.0, 3: 0.4}, 2.8)"
      ]
     },
     "execution_count": 5,
     "metadata": {},
     "output_type": "execute_result"
    }
   ],
   "source": [
    "mochilaGulosaConstrutiva(utilidade, peso_kg, peso_maximo)"
   ]
  },
  {
   "cell_type": "markdown",
   "metadata": {},
   "source": [
    "&nbsp;"
   ]
  },
  {
   "cell_type": "markdown",
   "metadata": {},
   "source": [
    "Modificando o problema da mochila para uma busca local"
   ]
  },
  {
   "cell_type": "code",
   "execution_count": 6,
   "metadata": {},
   "outputs": [],
   "source": [
    "# Ordenar os itens por utilidade relativa\n",
    "def utilidade_relativa(utilidade, peso):\n",
    "    # Calcular a utilidade relativa\n",
    "    dict = {enum_ : round((u_i/p_i),2) for enum_,(u_i, p_i) in enumerate(zip(utilidade , peso))}\n",
    "    \n",
    "    # Ordenar o dicionário por utilidade relativa\n",
    "    return sorted(dict.items(), key=lambda item: item[1], reverse=True)"
   ]
  },
  {
   "cell_type": "code",
   "execution_count": 7,
   "metadata": {},
   "outputs": [],
   "source": [
    "def solucaoInicial(U_, P_, W_, itens):\n",
    "    # Lista da solução inicial\n",
    "    inicialList = {\n",
    "        'item':[],\n",
    "        'peso':[]\n",
    "    }\n",
    "\n",
    "    # Inicializar variáveis\n",
    "    custo_total     = 0\n",
    "    utilidade_total = []\n",
    "    \n",
    "    for item, _ in itens:\n",
    "        \n",
    "        # Verificar se o peso do item não ultrapassa o peso máximo\n",
    "        if custo_total + P_[item] <= W_:\n",
    "            # Atualizando o custo total\n",
    "            custo_total = custo_total + P_[item]\n",
    "\n",
    "            # Atualizando a utilidade relativa total\n",
    "            utilidade_total.append(U_[item]) \n",
    "            \n",
    "            # Adicionando o item na solução\n",
    "            inicialList[\"item\"].append(item)\n",
    "            inicialList[\"peso\"].append(P_[item])\n",
    "\n",
    "    return {\n",
    "        \"solucao\": inicialList,\n",
    "        \"utilidade_total_list\": utilidade_total,\n",
    "        \"utilidade_total\": sum(utilidade_total)\n",
    "    }  "
   ]
  },
  {
   "cell_type": "code",
   "execution_count": 8,
   "metadata": {},
   "outputs": [],
   "source": [
    "def mochilaBuscaLocal(utilidade, peso, W_=5, maxIter=100, removeItem =  \"random\"):\n",
    "    # Ordenar os itens por utilidade relativa\n",
    "    itens = utilidade_relativa(utilidade, peso)\n",
    "    \n",
    "    # Inicializar variáveis\n",
    "    custo_total     = 0\n",
    "    solucaoI_ = solucaoInicial(utilidade, peso, W_,itens)\n",
    "    print(\"Solucao inicial : \",solucaoI_,\"\\n\")\n",
    "    \n",
    "\n",
    "    # Iterar sobre os itens\n",
    "    for _ in range(maxIter):\n",
    "        # Pegar a solução inicial ou solução n\n",
    "        S_ = solucaoI_[\"solucao\"]\n",
    "\n",
    "        # Pegar a utilidade total da solução inicial ou solução n\n",
    "        U_ = solucaoI_[\"utilidade_total_list\"]\n",
    "        \n",
    "\n",
    "        # remover um item aleatório\n",
    "        match removeItem:\n",
    "            case \"random\": i = np.random.choice(range(len(S_['peso'])))\n",
    "\n",
    "            # remover o item com maior peso\n",
    "            case \"max\" : i = S_['peso'].index(max(S_['peso']))\n",
    "         \n",
    "            # remover o item com menor peso\n",
    "            case \"min\" : i = S_['peso'].index(min(S_['peso']))\n",
    "    \n",
    "            # remover o item com maior utilidade\n",
    "            case \"max utility\": i = U_.index(max(U_))\n",
    "\n",
    "            # remover o item com menor utilidade\n",
    "            case \"min utility\": i = U_.index(min(U_))\n",
    "            \n",
    "        \n",
    "\n",
    "        valores_restantes = [item for item in itens if item[0] not in S_['item']]\n",
    "\n",
    "        del S_['item'][i]\n",
    "        del S_['peso'][i]\n",
    "        del U_[i]\n",
    "        \n",
    "        custo_total = sum(S_['peso'])        \n",
    "\n",
    "        # Verificar se o peso do item não ultrapassa o peso máximo\n",
    "        for item, _ in valores_restantes:\n",
    "            \n",
    "            # Verificar se o peso do item não ultrapassa o peso máximo \n",
    "            # e se o item não foi removido \n",
    "            if custo_total + peso[item] <= W_:\n",
    "                # Atualizando o custo total\n",
    "                custo_total = custo_total + peso[item]\n",
    "\n",
    "                U_.append(utilidade[item])\n",
    "                # Adicionando o item na solução\n",
    "                S_['item'].append(item)\n",
    "                S_['peso'].append(peso[item])  \n",
    "                \n",
    "        if sum(U_) > solucaoI_[\"utilidade_total\"]:\n",
    "            solucaoI_[\"solucao\"] = S_\n",
    "            solucaoI_[\"utilidade_total\"] = sum(U_)\n",
    "            solucaoI_[\"utilidade_total_list\"] = U_\n",
    "            solucaoI_[\"custo_total\"] = custo_total\n",
    " \n",
    "    return solucaoI_"
   ]
  },
  {
   "cell_type": "markdown",
   "metadata": {},
   "source": [
    "Removendo da mochila os items de maxima utilidade"
   ]
  },
  {
   "cell_type": "code",
   "execution_count": 9,
   "metadata": {},
   "outputs": [
    {
     "name": "stdout",
     "output_type": "stream",
     "text": [
      "Solucao inicial :  {'solucao': {'item': [0, 4, 6, 2, 7, 1, 3], 'peso': [0.2, 0.2, 0.1, 0.4, 0.5, 1.0, 0.4]}, 'utilidade_total_list': [6, 5, 2, 7, 6, 9, 3], 'utilidade_total': 38} \n",
      "\n"
     ]
    }
   ],
   "source": [
    "S_ = mochilaBuscaLocal(utilidade, peso_kg, peso_maximo, maxIter=100, removeItem=\"max utility\")"
   ]
  },
  {
   "cell_type": "code",
   "execution_count": 10,
   "metadata": {},
   "outputs": [
    {
     "name": "stdout",
     "output_type": "stream",
     "text": [
      "\n",
      "4.8\n",
      "39\n",
      "[6, 5, 2, 7, 6, 3, 9]\n",
      "{'item': [0, 4, 6, 2, 7, 3, 1], 'peso': [0.2, 0.2, 0.1, 0.4, 0.5, 0.4, 1.0]}\n",
      "\n"
     ]
    }
   ],
   "source": [
    "print(f\"\"\"\n",
    "{S_[\"custo_total\"]}\n",
    "{S_[\"utilidade_total\"]}\n",
    "{S_[\"utilidade_total_list\"]}\n",
    "{S_[\"solucao\"]}\n",
    "\"\"\")"
   ]
  },
  {
   "cell_type": "markdown",
   "metadata": {},
   "source": [
    "Removendo o aletoriamente"
   ]
  },
  {
   "cell_type": "code",
   "execution_count": 11,
   "metadata": {},
   "outputs": [
    {
     "name": "stdout",
     "output_type": "stream",
     "text": [
      "Solucao inicial :  {'solucao': {'item': [0, 4, 6, 2, 7, 1, 3], 'peso': [0.2, 0.2, 0.1, 0.4, 0.5, 1.0, 0.4]}, 'utilidade_total_list': [6, 5, 2, 7, 6, 9, 3], 'utilidade_total': 38} \n",
      "\n"
     ]
    }
   ],
   "source": [
    "S_ = mochilaBuscaLocal(utilidade, peso_kg, peso_maximo, maxIter=100, removeItem=\"random\")"
   ]
  },
  {
   "cell_type": "code",
   "execution_count": 12,
   "metadata": {},
   "outputs": [
    {
     "name": "stdout",
     "output_type": "stream",
     "text": [
      "\n",
      "4.800000000000001\n",
      "39\n",
      "[3, 5, 6, 7, 6, 2, 10]\n",
      "{'item': [3, 4, 7, 2, 0, 6, 5], 'peso': [0.4, 0.2, 0.5, 0.4, 0.2, 0.1, 3.0]}\n",
      "\n"
     ]
    }
   ],
   "source": [
    "print(f\"\"\"\n",
    "{S_[\"custo_total\"]}\n",
    "{S_[\"utilidade_total\"]}\n",
    "{S_[\"utilidade_total_list\"]}\n",
    "{S_[\"solucao\"]}\n",
    "\"\"\")"
   ]
  },
  {
   "cell_type": "markdown",
   "metadata": {},
   "source": [
    "### Observações"
   ]
  },
  {
   "cell_type": "markdown",
   "metadata": {},
   "source": [
    "### Heuristicas\n",
    "\n",
    "São algortimos que geram uma soluçao viável, mas não dão \n",
    "\n",
    "Podem ser:\n",
    "* Construtivas, produzem uma solução viável, muitas vezes usando estratégia gulosa\n",
    "\n",
    "* Busca Local, partem de uma solução inicial e vai melhoram  atraves de pequenas modificações.\n"
   ]
  },
  {
   "cell_type": "markdown",
   "metadata": {},
   "source": [
    "&nbsp;"
   ]
  },
  {
   "cell_type": "markdown",
   "metadata": {},
   "source": [
    "### MetaHeuristica"
   ]
  },
  {
   "cell_type": "markdown",
   "metadata": {},
   "source": [
    "Metaheuristica é um procedimento sistemático, estocasticos e inexato para realizar a otimização de um processo. Para executar um metaheuristica precisamo de 4 condições:\n",
    "1. Contruir um solução inicial\n",
    "2. Avaliar a qualidade de uma solução\n",
    "3. Ajustar uma solução para obter um nova\n",
    "4. copiar uma solução\n",
    "\n",
    "Primeira metaheuristicas que podemos explorar é a tentativa de reproduzir o método da subidade do gradiente. Nela vamos, a partir de uma solução inicial fazer um ajuste e comparar-se a solução obtiva é melhor que a solução atual.\n",
    "\n",
    "#### Subida na colina"
   ]
  },
  {
   "cell_type": "markdown",
   "metadata": {},
   "source": [
    "```pseudo\n",
    "______________________________\n",
    "ALG   : Subida na Colina\n",
    "INPUT : INITIAL S \n",
    "OUTPUT: BEST S \n",
    "______________________________\n",
    "INICIO:\n",
    "    ENQUANTO <condição> FAÇA:\n",
    "        r <- ajusta(S)\n",
    "        SE Q(R) > Q(S) ENTÃO:\n",
    "            S <- R\n",
    "        END\n",
    "    END\n",
    "    RETURN S\n",
    "    \n",
    "```"
   ]
  },
  {
   "cell_type": "code",
   "execution_count": 13,
   "metadata": {},
   "outputs": [],
   "source": [
    "def ajutar(inicial):\n",
    "    return round(np.random.uniform(low=inicial - 1, high=inicial + 1, size=100)[0], 3)\n",
    "\n",
    "def subidaColina(f, inicial, maxIter=10):\n",
    "    iter_ = 0\n",
    "    while iter_ != maxIter:\n",
    "        \n",
    "        R = ajutar(inicial) \n",
    "        if f(R) > f(inicial): \n",
    "            inicial = R\n",
    "        iter_ += 1\n",
    "\n",
    "    return inicial"
   ]
  },
  {
   "cell_type": "code",
   "execution_count": 14,
   "metadata": {},
   "outputs": [
    {
     "data": {
      "text/plain": [
       "np.float64(-19.927)"
      ]
     },
     "execution_count": 14,
     "metadata": {},
     "output_type": "execute_result"
    }
   ],
   "source": [
    "f = lambda x:  x**2 - 4*x + 4\n",
    "x  = subidaColina(f, np.random.RandomState(1).random(1), 100)\n",
    "x"
   ]
  },
  {
   "cell_type": "code",
   "execution_count": 15,
   "metadata": {},
   "outputs": [
    {
     "data": {
      "image/png": "[encoded data removed]",
      "text/plain": [
       "<Figure size 640x480 with 1 Axes>"
      ]
     },
     "metadata": {},
     "output_type": "display_data"
    }
   ],
   "source": [
    "plt.plot(np.arange(-100,100,0.1),f(np.arange(-100,100,0.1)))\n",
    "plt.plot(x,f(x), color='red', marker='o')   \n",
    "plt.show()"
   ]
  },
  {
   "cell_type": "markdown",
   "metadata": {},
   "source": [
    "#### Subida da colina global"
   ]
  },
  {
   "cell_type": "markdown",
   "metadata": {},
   "source": [
    "Podemos modificar o algoritmo da subida da colina para procurar não apenas a primeira mas a melhor solução ajustada a partir de um solução referencia. Este conj. de soluções candidatas é chamada de vizinhança da solução de referencia e pode ser gerada de maneira deterministica ou estocatica. Apos gerado o conj. o algortiom seleciona a melhor solução candidata que possa ser a referencia."
   ]
  },
  {
   "cell_type": "markdown",
   "metadata": {},
   "source": [
    "```pseudo\n",
    "_____________________________________\n",
    "ALG   : Subida da colina global\n",
    "INPUT : INITIAL S\n",
    "OUTPUT: BEST S\n",
    "_____________________________________\n",
    "INICIO:\n",
    "    ENQUANTO <condição> FAÇA:\n",
    "        r <-<argumento>MAX{Q(R') : R'<- ajusta(S)}\n",
    "        SE Q(R) > Q(S) ENTÃO:\n",
    "            S <- R\n",
    "        END\n",
    "    END\n",
    "    RETURN S\n",
    "```"
   ]
  },
  {
   "cell_type": "code",
   "execution_count": 16,
   "metadata": {},
   "outputs": [],
   "source": [
    "def ajutar(inicial):\n",
    "    stocastic = np.random.normal(loc=inicial, scale=1, size=2)\n",
    "    return stocastic[np.argmax(f(stocastic))]\n",
    "\n",
    "def subidaColina(f, inicial, maxIter=100, memoria=False):\n",
    "    print(\"solucao Inicial :\", inicial, \"f(inicial) : \", f(inicial))\n",
    "    iter_ = 0\n",
    "    pontos = [inicial]\n",
    "    while iter_ != maxIter :\n",
    "        \n",
    "        R = ajutar(inicial)\n",
    "        if np.isinf(f(R)): break\n",
    "\n",
    "        if f(R) > f(inicial):    \n",
    "            inicial = R\n",
    "            if memoria: pontos.append(inicial)\n",
    "        iter_ += 1\n",
    "\n",
    "    return inicial, np.array(pontos)"
   ]
  },
  {
   "cell_type": "code",
   "execution_count": 17,
   "metadata": {},
   "outputs": [
    {
     "name": "stdout",
     "output_type": "stream",
     "text": [
      "solucao Inicial : 10 f(inicial) :  -104.5623790762907\n"
     ]
    },
    {
     "data": {
      "text/plain": [
       "np.float64(0.017812784603571025)"
      ]
     },
     "execution_count": 17,
     "metadata": {},
     "output_type": "execute_result"
    }
   ],
   "source": [
    "f = lambda x:  -1 * (x **2 + 4 + np.cos(x**3))\n",
    "x,p  = subidaColina(f, 10, 100, memoria=True)\n",
    "x"
   ]
  },
  {
   "cell_type": "code",
   "execution_count": 18,
   "metadata": {},
   "outputs": [
    {
     "data": {
      "image/png": "[encoded data removed]",
      "text/plain": [
       "<Figure size 640x480 with 1 Axes>"
      ]
     },
     "metadata": {},
     "output_type": "display_data"
    }
   ],
   "source": [
    "pi = np.arange(-10,10,0.01)\n",
    "plt.plot(pi,f(pi))\n",
    "plt.plot(p,f(p), color='red', marker='o')   \n",
    "plt.show()"
   ]
  },
  {
   "cell_type": "markdown",
   "metadata": {},
   "source": [
    "\n",
    "#### Caminhada aleatória\n",
    "Outra modificação possivel da subida da colina é a tomar de referencia não apenas com melhor solução encontrada mas ultima solução encontrada. Nesse caso estamos fazendo para solução possivelmente piores, mas que contribuem  para desangua no processo. Como importante conseguencia este agoritmo não para em otimos locais é a nossa primeira metaheuristica de otimização global."
   ]
  },
  {
   "cell_type": "markdown",
   "metadata": {},
   "source": [
    "```pseudo\n",
    "______________________________________\n",
    "ALG   : Caminhada aleatória\n",
    "INPUT : INITIAL S \n",
    "OUTPUT: BEST S\n",
    "______________________________________\n",
    "INICIO:\n",
    "    R <- S\n",
    "    ENQUANTO <condição> FAÇA:\n",
    "        R <- ajusta(S)\n",
    "        SE Q(R) > Q(S) ENTÃO:\n",
    "            S <- R\n",
    "        END\n",
    "    END\n",
    "    RETURN S\n",
    "```"
   ]
  },
  {
   "cell_type": "code",
   "execution_count": 19,
   "metadata": {},
   "outputs": [],
   "source": [
    "def ajutarA(inicial):\n",
    "    stocastic = np.random.normal(loc=inicial, scale=1, size=2)\n",
    "    return np.random.choice(stocastic, 1)[0]\n",
    "\n",
    "def caminhadaAleatoria(f, inicial, maxIter=100, memoria=False):\n",
    "    print(\"solucao Inicial :\", inicial, \"f(inicial) : \", f(inicial))\n",
    "    iter_ = 0\n",
    "    pontos = [inicial]\n",
    "    while iter_ != maxIter :\n",
    "        \n",
    "        R = ajutarA(inicial)\n",
    "        if np.isinf(f(R)): break\n",
    "\n",
    "        if f(R) > f(inicial):    \n",
    "            inicial = R\n",
    "            if memoria: pontos.append(inicial)\n",
    "        iter_ += 1\n",
    "\n",
    "    return inicial, np.array(pontos)"
   ]
  },
  {
   "cell_type": "code",
   "execution_count": 20,
   "metadata": {},
   "outputs": [
    {
     "name": "stdout",
     "output_type": "stream",
     "text": [
      "solucao Inicial : 10 f(inicial) :  -104.5623790762907\n"
     ]
    },
    {
     "data": {
      "text/plain": [
       "np.float64(0.04453614992171348)"
      ]
     },
     "execution_count": 20,
     "metadata": {},
     "output_type": "execute_result"
    }
   ],
   "source": [
    "f = lambda x:  -1 * (x **2 + 4 + np.cos(x**3))\n",
    "x,p  = caminhadaAleatoria(f, 10, 100, memoria=True)\n",
    "x"
   ]
  },
  {
   "cell_type": "code",
   "execution_count": 21,
   "metadata": {},
   "outputs": [
    {
     "data": {
      "image/png": "[encoded data removed]",
      "text/plain": [
       "<Figure size 1500x500 with 1 Axes>"
      ]
     },
     "metadata": {},
     "output_type": "display_data"
    }
   ],
   "source": [
    "plt.figure(figsize=(15,5))\n",
    "plt.plot(p,f(p), color='red', marker='>')   \n",
    "plt.show()"
   ]
  },
  {
   "cell_type": "markdown",
   "metadata": {},
   "source": [
    "#### Subida da colina com reinicio aleatorio\n",
    "Vamos combiniar a subida da colina com o reinicio aleatorio no qual realizamos uma subida na colina e depois de um tempo retornamos para outra solução inicial.\n"
   ]
  },
  {
   "cell_type": "markdown",
   "metadata": {},
   "source": [
    "```pseudo\n",
    "_______________________________________________\n",
    "ALG   : Subida da colina com reinicio aleatorio\n",
    "INPUT : INITIAL S \n",
    "OUTPUT: BEST S\n",
    "_______________________________________________\n",
    "INICIO:\n",
    "    SOLUCAO_INICIAL <- S\n",
    "    B <- S\n",
    "    ENQUANTO <condição 1> FAÇA:\n",
    "        ENQUANTO <condição 2> FAÇA:\n",
    "            R <- Ajustar(S)\n",
    "            SE Q(R) > Q(S) ENTÃO:\n",
    "                S <- R\n",
    "            END\n",
    "        END\n",
    "        SE Q(S) > Q(B) ENTÃO:\n",
    "            B <- S\n",
    "        END\n",
    "        S <- SOLUCAO_INICIAL\n",
    "    END\n",
    "    RETURN B\n",
    "```"
   ]
  },
  {
   "cell_type": "code",
   "execution_count": 22,
   "metadata": {},
   "outputs": [],
   "source": [
    "def ajustarCR(solucao):\n",
    "    stocastic = np.random.normal(loc=solucao, scale=0.5, size=2)\n",
    "    return stocastic[np.argmax(f(stocastic))]\n",
    "\n",
    "\n",
    "def subidaColinaReinicio(f, inicio, maxIter=100, memoria=False):\n",
    "    pontos = []\n",
    "    iter_ = 0\n",
    "    B = solucao_inicial = inicio\n",
    "    count_  = 0\n",
    "    countB_ = 0\n",
    "\n",
    "    while iter_ != maxIter:\n",
    "        iterRandom_, iterW = int(random.randint(10, maxIter//3)), 0\n",
    "\n",
    "        while iterW != iterRandom_:\n",
    "            R = ajustarCR(inicio)\n",
    "\n",
    "            if np.isinf(f(R)): break\n",
    "            \n",
    "            if f(R) > f(inicio):            \n",
    "                inicio = R\n",
    "                count_ += 1\n",
    "            iterW += 1\n",
    "            \n",
    "        if f(inicio) > f(B):\n",
    "            B = inicio\n",
    "            countB_ += 1\n",
    "            if memoria: pontos.append(B)\n",
    "        \n",
    "        inicio = solucao_inicial\n",
    "        iter_ += 1\n",
    "    print(f\"\"\"\n",
    "          RESULTADOS\n",
    "Solucao inicial......: {solucao_inicial}  \n",
    "    > f(inicial).: {f(inicio)}\n",
    "\n",
    "Melhor solução.......: {B}              \n",
    "    > f(B).......: {f(B)}\n",
    "B foi modificado.....: {countB_}\n",
    "R foi modificado.....: {count_}\n",
    "\"\"\")\n",
    "    return B, np.array(pontos)"
   ]
  },
  {
   "cell_type": "code",
   "execution_count": 23,
   "metadata": {},
   "outputs": [
    {
     "name": "stdout",
     "output_type": "stream",
     "text": [
      "\n",
      "          RESULTADOS\n",
      "Solucao inicial......: -100  \n",
      "    > f(inicial).: -9995.063247872467\n",
      "\n",
      "Melhor solução.......: -4.989155411663272e-05              \n",
      "    > f(B).......: 4.999999997510833\n",
      "B foi modificado.....: 5\n",
      "R foi modificado.....: 123841\n",
      "\n"
     ]
    }
   ],
   "source": [
    "f = lambda x:  -1 * x **2 + 4 + np.cos(x**3)\n",
    "x, p  = subidaColinaReinicio(f, -100, 1000, memoria=True)"
   ]
  },
  {
   "cell_type": "code",
   "execution_count": 24,
   "metadata": {},
   "outputs": [
    {
     "data": {
      "text/plain": [
       "[<matplotlib.lines.Line2D at 0x16f94e20e00>]"
      ]
     },
     "execution_count": 24,
     "metadata": {},
     "output_type": "execute_result"
    },
    {
     "data": {
      "image/png": "[encoded data removed]",
      "text/plain": [
       "<Figure size 640x480 with 1 Axes>"
      ]
     },
     "metadata": {},
     "output_type": "display_data"
    }
   ],
   "source": [
    "pi = np.arange(-20,1,0.0001)\n",
    "plt.plot(pi,f(pi))\n",
    "plt.plot(p,f(p), color='red', marker='o')"
   ]
  },
  {
   "cell_type": "markdown",
   "metadata": {},
   "source": [
    "&nbsp;"
   ]
  },
  {
   "cell_type": "markdown",
   "metadata": {},
   "source": [
    "### Operador ajustar\n",
    "Vamos que entre as caracteristicas exigidas para a aplicação das metaheuristicas está a capacidade de transformar uma solução em outra solução através da operação que chamamos ajustar.\n",
    "Não existe a priori uma definição unica para essa operação ele costuma ser dependente da estrutura de representações das soluções.\n",
    "Há, contudo, uma nação de que a modificação promovida é pequena e de natureza estocatica. Dessa forma a partida de uma solução S, e conj. de ajustes possíveis define uma vizinhança de S, ou seja todos as soluções alcançaveis a partir de S atraves de uma operação de Ajuste. Timpicamente este é um conj. pequeno se comparado ao conj. de todas as possíveis soluções do ploblema, o que torna o processo de otimização possivel.\n",
    "\n",
    "Exemplo de AJUSTE\n",
    "1. Representar atraves de um vetor\n",
    "    * [ | | | x | | | | |] sortear uma posição e modificar o valor\n",
    "    * [ | | x | | | | | | |] sortear uma posição e incrementar/decrementar o valor\n",
    "\n",
    "2. Representação através de um permutação\n",
    "    * Sortear duar posições e troca-las de um lugar\n",
    "    * Sortear uma posição e trocar dois valores adjacentes\n"
   ]
  },
  {
   "cell_type": "code",
   "execution_count": 25,
   "metadata": {},
   "outputs": [
    {
     "data": {
      "text/plain": [
       "[4]"
      ]
     },
     "execution_count": 25,
     "metadata": {},
     "output_type": "execute_result"
    }
   ],
   "source": [
    "random.choices([1 , 2 , 3 , 4])"
   ]
  },
  {
   "cell_type": "code",
   "execution_count": 26,
   "metadata": {},
   "outputs": [
    {
     "name": "stdout",
     "output_type": "stream",
     "text": [
      "[2, 2, 3, 4, 5]\n"
     ]
    }
   ],
   "source": [
    "import random\n",
    "\n",
    "def ajustar_valor(lista):\n",
    "    # Sortear uma posição aleatória\n",
    "    posicao = random.randint(0, len(lista) - 1)\n",
    "    \n",
    "    # Incrementar ou decrementar o valor na posição sorteada\n",
    "    lista[posicao] += random.choice([-1, 1])\n",
    "    \n",
    "    return lista\n",
    "\n",
    "# Exemplo de uso\n",
    "lista = [1, 2, 3, 4, 5]\n",
    "nova_lista = ajustar_valor(lista)\n",
    "print(nova_lista)"
   ]
  },
  {
   "cell_type": "markdown",
   "metadata": {},
   "source": [
    "&nbsp;"
   ]
  },
  {
   "cell_type": "markdown",
   "metadata": {},
   "source": [
    "### Recozimento Simulado"
   ]
  },
  {
   "cell_type": "markdown",
   "metadata": {},
   "source": [
    "Em metaheurísticas, **recozimento simulado** refere-se a um algoritmo inspirado no processo de recozimento térmico, utilizado para resolver problemas combinatórios ou otimização global. Ele é amplamente utilizado em diversas aplicações, como:\n",
    "\n",
    "### Definição:\n",
    "O **recozimento simulado** é uma metaheurística que busca minimizar uma função objetiva por meio da exploração de vizinhanças em estados possíveis, ao longo de várias iterações, similar ao processo de resfriamento controlado em materiais metálicos.\n",
    "\n",
    "### Funcionamento Geral:\n",
    "1. **Inicialização**: Inicia-se com uma solução inicial aleatória.\n",
    "2. **Avaliação**: A solução atual é avaliada com base em uma função objetivo.\n",
    "3. **Movimento**: Em cada iteração, uma nova solução vizinha é gerada.\n",
    "4. **Aceitação**: A nova solução é aceita com base em critérios probabilísticos que consideram a diferença na função objetivo entre a solução anterior e a nova. A aceitação é mais provável quando a diferença é pequena, mas também pode ocorrer com diferenças maiores, dependendo da temperatura simulada.\n",
    "5. **Resfriamento**: A temperatura simulada diminui gradualmente ao longo das iterações, o que reduz a possibilidade de aceitar mudanças drásticas na solução.\n",
    "\n",
    "### Propósito do Recozimento Simulado em Metaheurísticas:\n",
    "- Explorar o espaço de solução globalmente enquanto permite explorar soluções locais.\n",
    "- Evitar a convergência rápida para soluções subótimas.\n",
    "- Melhorar a eficiência da busca por soluções ótimas em problemas complexos de otimização.\n",
    "\n",
    "### Aplicações:\n",
    "- **Otimização de roteamento** (VRP - Vehicle Routing Problem).\n",
    "- **Ajuste de parâmetros** em modelos de machine learning.\n",
    "- **Design de circuitos** e outros problemas combinatórios.\n",
    "\n",
    "O recozimento simulado é uma ferramenta poderosa para lidar com problemas onde há um grande número de combinações possíveis e soluções locais muitas vezes podem ser subótimas."
   ]
  },
  {
   "cell_type": "markdown",
   "metadata": {},
   "source": [
    "```pseudo\n",
    "_____________________________\n",
    "ALG   : RECOZIMENTO SIMULADO\n",
    "INPUT : INITIAL S\n",
    "OUTPUT: BEST B \n",
    "_____________________________\n",
    "INICIO:\n",
    "    B <- S\n",
    "    T <- temperatura inicial\n",
    "    ENQUANTO <CONDICAO> E T > 0 FAÇA:\n",
    "        R <- Ajustar(S)\n",
    "        P <- ALEATORIO(0,1)\n",
    "\n",
    "        SE Q(S) > Q(R) OU P < exp({Q(R) -Q(S)}/ {t})\n",
    "            S <- R\n",
    "        END\n",
    "        SE Q(S) > Q(B) ENTÃO:\n",
    "            B <- S\n",
    "        END\n",
    "        DECREMENTA T\n",
    "    END\n",
    "    RETURN B     \n",
    "```"
   ]
  },
  {
   "cell_type": "markdown",
   "metadata": {},
   "source": [
    "> O recozimento simulado apresenta a seguinte proposta:   \n",
    "> Inicialmente vamos começar com alta prob. de aceitar a solução piores como referencia e essa prob. vai decrescendo lentamente ao longo das iterações ate que o algoritmo chega a um comportamento de subida da colina. De fato a  parte de um parametro de temperatura T, e prob. de aceitar a solução R no lugar de S é:"
   ]
  },
  {
   "cell_type": "code",
   "execution_count": 27,
   "metadata": {},
   "outputs": [],
   "source": [
    "import random\n",
    "import math\n",
    "\n",
    "def ajustarRS(s):\n",
    "    return s + random.uniform(-1, 1)\n",
    "\n",
    "# Recozimento Simulado\n",
    "def recozimento_simulado(f, inicio, temperatura, resfriamento, maxIter):\n",
    "    # Inicializar solução inicial aleatória\n",
    "    B = inicio\n",
    "    valor_atual = f(inicio)\n",
    "    iter_ = 0\n",
    "    while iter_ != maxIter and temperatura > 0:\n",
    "        # Gerar solução vizinha\n",
    "        R = ajustarRS(inicio) \n",
    "        \n",
    "        P = random.uniform(0, 1)\n",
    "        # Aceitação da solução\n",
    "        if f(inicio) > f(R) or P < np.exp((f(R) - f(inicio)) / temperatura):\n",
    "            inicio  = R\n",
    "        if f(inicio) > f(B):\n",
    "            B = inicio\n",
    "        \n",
    "        # Resfriamento\n",
    "        temperatura -= resfriamento\n",
    "\n",
    "    return B, valor_atual"
   ]
  },
  {
   "cell_type": "code",
   "execution_count": 28,
   "metadata": {},
   "outputs": [
    {
     "name": "stdout",
     "output_type": "stream",
     "text": [
      "Solução ótima.: x = 0.0004252308244678815\n",
      " valor ótimo..: -53.495494569895016\n"
     ]
    }
   ],
   "source": [
    "inicio = random.uniform(-10, 10)  # Solução inicial aleatória\n",
    "temperatura = 1000                # Temperatura inicial\n",
    "resfriamento = 0.095              # Taxa de resfriamento\n",
    "it_max = 1000                     # Número máximo de iterações\n",
    "\n",
    "# Função objetivo: maximizar x^2 - 10 * cos(2 * π * x)\n",
    "f = lambda x: -1*(x**2 - 10 * math.cos(2 * x))\n",
    "\n",
    "melhor_solucao, melhor_valor = recozimento_simulado(f,inicio, temperatura, resfriamento, 1000)\n",
    "print(f'Solução ótima.: x = {melhor_solucao}\\n valor ótimo..: {melhor_valor}')\n"
   ]
  },
  {
   "cell_type": "code",
   "execution_count": 29,
   "metadata": {},
   "outputs": [],
   "source": [
    "p = np.arange(-10, 10, 0.1)\n",
    "resultados = np.vectorize(f)(p)"
   ]
  },
  {
   "cell_type": "code",
   "execution_count": 30,
   "metadata": {},
   "outputs": [
    {
     "data": {
      "text/plain": [
       "[<matplotlib.lines.Line2D at 0x16f94db0140>]"
      ]
     },
     "execution_count": 30,
     "metadata": {},
     "output_type": "execute_result"
    },
    {
     "data": {
      "image/png": "[encoded data removed]",
      "text/plain": [
       "<Figure size 640x480 with 1 Axes>"
      ]
     },
     "metadata": {},
     "output_type": "display_data"
    }
   ],
   "source": [
    "plt.plot(p, resultados)\n",
    "plt.plot(melhor_solucao, f(melhor_solucao), color='red', marker='o')"
   ]
  },
  {
   "cell_type": "code",
   "execution_count": 31,
   "metadata": {},
   "outputs": [
    {
     "data": {
      "text/plain": [
       "(0.0004252308244678815, 9.99999620275388)"
      ]
     },
     "execution_count": 31,
     "metadata": {},
     "output_type": "execute_result"
    }
   ],
   "source": [
    "melhor_solucao, f(melhor_solucao)"
   ]
  },
  {
   "cell_type": "markdown",
   "metadata": {},
   "source": [
    "### Busca Tabu\n",
    "A busca tabu é um método que define uma lista de soluções proibidas para evitar a repetição e garantir a exploração de novas regioes do espaço de soluções. De fato, funciona como uma subida da colina de maxima inclinação mas cada vez que uma nova solução é atingida a anterior é adicionada na list de soluções tabu, para que as quais não é possivel retornar.\n",
    "\n",
    "\n",
    "> Esta lista é relativa - quando ela está cheia o elemento mais antigo é removido."
   ]
  },
  {
   "cell_type": "markdown",
   "metadata": {},
   "source": [
    "```pseudo\n",
    "______________________________\n",
    "ALG   : BUSCA TABU\n",
    "INPUT : INITIAL S\n",
    "OUTPUT: BEST B\n",
    "______________________________\n",
    "INICIO:\n",
    "    B <- S\n",
    "    T <- []\n",
    "    ENQUANTO <condição> FAÇA:\n",
    "        INCLUIR(T, S)\n",
    "        S <- ARG MAX {Q(R): R pertence VIZINHANÇA(S)\\T}\n",
    "\n",
    "        SE Q(S) > Q(B) ENTÃO:\n",
    "            B <- S\n",
    "        END\n",
    "    END\n",
    "    RETURN B\n",
    "END\n",
    "```"
   ]
  },
  {
   "cell_type": "code",
   "execution_count": 32,
   "metadata": {},
   "outputs": [],
   "source": [
    "def incluir(T, S, limit = 5):\n",
    "    if len(T) != limit:\n",
    "        T.append(S)\n",
    "        return T\n",
    "    del T[0]\n",
    "    T.append(S)\n",
    "    return T\n",
    "\n",
    "\n",
    "def ajustaBT(f, s, T, size_=2):\n",
    "    s_ =  np.around(np.random.uniform(-1, 1, size=size_), 4).tolist()\n",
    "\n",
    "    s_ = np.array([ i for i in s_ if i not in T], dtype=np.float32)\n",
    "    \n",
    "    return s_[np.argmax(f(s_))]\n",
    "\n",
    "def buscaTabu(f, S, limit=5, maxIter=100, memoria = False, tamConjunto=2):\n",
    "    pontos_ = [S]   \n",
    "    T = []\n",
    "    B = S\n",
    "    iter_ = 0\n",
    "    while iter_ != maxIter:        \n",
    "        # Incluir a solução na lista tabu\n",
    "        T = incluir(T, S, limit)\n",
    "        \n",
    "\n",
    "        # Gerar solução vizinh\n",
    "        S = ajustaBT(f, S, T,size_=tamConjunto)\n",
    "        \n",
    "        if f(S) > f(B):\n",
    "            B = S\n",
    "            print(S)\n",
    "            if memoria: pontos_.append(B)\n",
    "        iter_ += 1\n",
    "    return B, np.array(pontos_)"
   ]
  },
  {
   "cell_type": "code",
   "execution_count": 33,
   "metadata": {},
   "outputs": [
    {
     "name": "stdout",
     "output_type": "stream",
     "text": [
      "0.4506\n",
      "-0.242\n"
     ]
    },
    {
     "data": {
      "text/plain": [
       "np.float32(-0.242)"
      ]
     },
     "execution_count": 33,
     "metadata": {},
     "output_type": "execute_result"
    }
   ],
   "source": [
    "f = lambda x: -1*(np.pi*x**2 -10 * np.sin(10 *  x*2))\n",
    "x, p = buscaTabu(f, 5, 5, 10, memoria=True)\n",
    "x"
   ]
  },
  {
   "cell_type": "code",
   "execution_count": 34,
   "metadata": {},
   "outputs": [
    {
     "data": {
      "text/plain": [
       "[<matplotlib.lines.Line2D at 0x16f97073680>]"
      ]
     },
     "execution_count": 34,
     "metadata": {},
     "output_type": "execute_result"
    },
    {
     "data": {
      "image/png": "[encoded data removed]",
      "text/plain": [
       "<Figure size 640x480 with 1 Axes>"
      ]
     },
     "metadata": {},
     "output_type": "display_data"
    }
   ],
   "source": [
    "pi = np.arange(-5, 5,0.01)\n",
    "fxs = np.vectorize(f)(pi)\n",
    "\n",
    "\n",
    "plt.plot(pi, fxs)\n",
    "plt.plot(p, np.vectorize(f)(p), color='red', marker='o')"
   ]
  },
  {
   "cell_type": "markdown",
   "metadata": {},
   "source": [
    "### Busca tabu baseada em caracteristicas"
   ]
  },
  {
   "cell_type": "markdown",
   "metadata": {},
   "source": [
    "Quando o conj. de soluções é muito grande a proibição de soluções individualmente é pouco eficaz, pois exige uma lista tabu muito grande para garantir uma diversificação satisfatória. O tamanho da lista pode ser um empecilho para eficiencia e calibragem do método. Neste sentido, uma alternativa é ter uma lista tabu com caracteristicas proibidas no qual ao inver de proibir soluções individualmente vamos proibir um caracteristicas que compõem essa solução."
   ]
  },
  {
   "cell_type": "markdown",
   "metadata": {},
   "source": [
    "```pseudo\n",
    "_____________________________________________\n",
    "ALG   : BUSCA TABU BASEDA EM CARACTERISTICAS\n",
    "INPUT : INITIAL S\n",
    "OUTPUT: BEST B\n",
    "_____________________________________________\n",
    "INICIO:\n",
    "    B <- S\n",
    "    T <- vazio\n",
    "    ENQUANTO <condição> FAÇA:\n",
    "        Z <- ARG MAX { Q(R) : R pertence VIZINHAÇA(S)}\n",
    "        T <- T U CARACTERISTICAS(Z - S)\n",
    "        SE Q(Z) > Q(B) ENTÃO:\n",
    "            B <- Z\n",
    "        END\n",
    "    END\n",
    "    RETURN B\n",
    "```"
   ]
  },
  {
   "cell_type": "markdown",
   "metadata": {},
   "source": [
    "&nbsp;"
   ]
  },
  {
   "cell_type": "markdown",
   "metadata": {},
   "source": [
    "### Busca em Vizinhança variável"
   ]
  },
  {
   "cell_type": "markdown",
   "metadata": {},
   "source": [
    "Ao elaborar uma metaheuristica, somos obrigados a conceber métodos de ajusta de uma solução, uma forma de sair de uma solução e chegar a outra. Porém, podemos utilizar não apensa um, mas varioas operadores de ajusta. Esta complexificação, que baseia o método da vizinhaça varíval, sendo apoiada em tre fatos:\n",
    "1. Um otimos local com respeito a um operador pode nçao ser um otimo local para um operador diferente.\n",
    "2. Um otimoo global é um otimo local para todos os possiveis ajustes.\n",
    "3. Para muitos problemas um otimo local com repeito a um operador não fica logo de um otimo local com respeito a outros operadores.\n",
    "\n",
    "Para explorar esses fatos vamos definir uma busca de maxima interacao que considera um conj. de vinhanças possiveis a partir de diferentes operadores. Cada vizinhança $N_e$ , e = $1,...,L$\n",
    "fica a ordem de forma que, se primeira vizinhança não prever uma melhor solução então a segunda é pesquisida e assim por diante. Quanto nenhuma vizinhaça é capaz de dar uma melhor resposta o algoritmo chega ao limite das suas propriedas"
   ]
  },
  {
   "cell_type": "markdown",
   "metadata": {},
   "source": [
    "```pseudo\n",
    "____________________________________________\n",
    "ALG   : SUBIDA EM UMA VIZINHANÇA VARIÁVEL\n",
    "INPUT : INITIAL S\n",
    "OUTPUT: BEST S\n",
    "____________________________________________\n",
    "INICIO:\n",
    "    i <- 1\n",
    "    ENQUANTO <CONDIÇÃO> E i>=L FAÇA:\n",
    "        R <- ARG MAX{ Ne }\n",
    "        SE Q(R) > Q(S) ENTÃO:\n",
    "            S <- R\n",
    "            i <- 0\n",
    "        FIM\n",
    "        i < i + 1\n",
    "    END\n",
    "    RETURN S\n",
    "```"
   ]
  },
  {
   "cell_type": "code",
   "execution_count": 35,
   "metadata": {},
   "outputs": [],
   "source": [
    "def geraVizinhos(s, n, intervalos):\n",
    "    vizinhos = []\n",
    "    for i in range(n):\n",
    "        vizinhos.append(\n",
    "            max( intervalos[0], min(intervalos[1], s + random.uniform(-1, 1)))   \n",
    "        )\n",
    "\n",
    "    return vizinhos"
   ]
  },
  {
   "cell_type": "code",
   "execution_count": 36,
   "metadata": {},
   "outputs": [],
   "source": [
    "def vizinhaVariavel(f, S, Lmax=10, intervalo=[-10, 10], nVizinhos = 5, memoria=False):\n",
    "    '''\n",
    "    ### Parametros da função\n",
    "    F        : Função objetivo\n",
    "    S        : Solução inicial\n",
    "    Lmax     : Número máximo de iterações sem melhora\n",
    "    intervalo: Intervalo de busca\n",
    "    nVizinhos: Número de vizinhos a serem gerados\n",
    "    memoria  : Salvar as soluções\n",
    "    '''\n",
    "    pontos =[S]\n",
    "    i = 0 \n",
    "\n",
    "    # Inicializar solução inicial\n",
    "    while i < Lmax:\n",
    "        # Gerar solução vizinha\n",
    "        R = max(\n",
    "            geraVizinhos(S, nVizinhos, intervalo), key=f\n",
    "        )\n",
    "\n",
    "        # Aceitação da solução\n",
    "        if f(R) > f(S):\n",
    "            S = R\n",
    "            i = 0\n",
    "            if memoria: pontos.append(S)\n",
    "        # Incrementar o contador\n",
    "        else: \n",
    "            i += 1\n",
    "    return S, pontos"
   ]
  },
  {
   "cell_type": "code",
   "execution_count": 37,
   "metadata": {},
   "outputs": [],
   "source": [
    "# Função objetivo: maximiza \n",
    "f = lambda x: -1*(np.pi*x**2 -10 * np.sin(10 *  x*2))"
   ]
  },
  {
   "cell_type": "code",
   "execution_count": 38,
   "metadata": {},
   "outputs": [],
   "source": [
    "x, p = vizinhaVariavel(\n",
    "    f, \n",
    "    5, \n",
    "    10, \n",
    "    [-10, 10], \n",
    "    5, \n",
    "    memoria=True)"
   ]
  },
  {
   "cell_type": "code",
   "execution_count": 39,
   "metadata": {},
   "outputs": [],
   "source": [
    "pi = np.arange(-5, 5,0.01)\n",
    "fxs = np.vectorize(f)(pi)"
   ]
  },
  {
   "cell_type": "code",
   "execution_count": 40,
   "metadata": {},
   "outputs": [
    {
     "data": {
      "text/plain": [
       "[<matplotlib.lines.Line2D at 0x16f970ee120>]"
      ]
     },
     "execution_count": 40,
     "metadata": {},
     "output_type": "execute_result"
    },
    {
     "data": {
      "image/png": "[encoded data removed]",
      "text/plain": [
       "<Figure size 640x480 with 1 Axes>"
      ]
     },
     "metadata": {},
     "output_type": "display_data"
    }
   ],
   "source": [
    "plt.plot(pi, fxs)\n",
    "plt.plot(p, np.vectorize(f)(p), color='red', marker='o')"
   ]
  },
  {
   "cell_type": "markdown",
   "metadata": {},
   "source": [
    "Completando o método, vamos utilizar a subida da vizinhança variável de um enquadramento de busca lcal iterada onde substuimos a subida da colina por uma subida um vizinhança variável."
   ]
  },
  {
   "cell_type": "markdown",
   "metadata": {},
   "source": [
    "```pseudo\n",
    "_____________________________________\n",
    "ALG    : BUSCA EM VIZINHANÇA VARIÁVEL\n",
    "ENTRADA: SOLUÇÃO INCIAL S\n",
    "SAÍDA  : MELHOR SOLUÇÃO B\n",
    "_____________________________________\n",
    "INICIO: \n",
    "    B <- S\n",
    "    H <- H\n",
    "    ENQUANTO <CONDIÇÃO> FAÇA:\n",
    "        S <- SUBIDA_EM_VIZINHAÇA_VARIAVEL(S)\n",
    "        SE Q(S) > Q(B) ENTÃO:\n",
    "            B <- S\n",
    "        FIM\n",
    "        H <- NOVA_BASE(H, S)\n",
    "        S <- PERTURBAR(H)\n",
    "    RETURN B \n",
    "```"
   ]
  },
  {
   "cell_type": "code",
   "execution_count": 41,
   "metadata": {},
   "outputs": [],
   "source": [
    "def perturbar(S):\n",
    "    return round(S + np.random.uniform(-1, 1), 3)\n",
    "\n",
    "def nova_base(f, H, S):\n",
    "    if f(H) > f(S):\n",
    "        return H \n",
    "    return S"
   ]
  },
  {
   "cell_type": "code",
   "execution_count": 42,
   "metadata": {},
   "outputs": [],
   "source": [
    "def buscaVizinhançaVariavel(f, inicial, maxIter=100, memoria = False):\n",
    "    S = inicial\n",
    "    H = inicial\n",
    "    B = copy.deepcopy(S)\n",
    "    iter_ , pontos = 0, [S]\n",
    "\n",
    "    while iter_ != maxIter:\n",
    "        S, _ = vizinhaVariavel(f, S)\n",
    "\n",
    "        if f(S) > f(B):\n",
    "            B = S \n",
    "            \n",
    "            if memoria: pontos.append(B)\n",
    "        H = nova_base(f, H, S)\n",
    "        S = perturbar(H)\n",
    "        iter_ += 1\n",
    "    return B, pontos"
   ]
  },
  {
   "cell_type": "code",
   "execution_count": 43,
   "metadata": {},
   "outputs": [],
   "source": [
    "# Função objetivo: maximiza \n",
    "f = lambda x: -1*(np.pi*x**2 -10 * np.sin(10 *  x**3)) "
   ]
  },
  {
   "cell_type": "code",
   "execution_count": 44,
   "metadata": {},
   "outputs": [],
   "source": [
    "x, p = buscaVizinhançaVariavel(f, np.random.RandomState(20).randint(-1, 1), memoria=True)"
   ]
  },
  {
   "cell_type": "code",
   "execution_count": 45,
   "metadata": {},
   "outputs": [
    {
     "data": {
      "text/plain": [
       "(0.5351457964769281,\n",
       " [0,\n",
       "  0.5269917456589301,\n",
       "  0.5357442808205397,\n",
       "  0.5357052423973913,\n",
       "  0.5352482912725591,\n",
       "  0.5348433609774256,\n",
       "  0.5351457964769281],\n",
       " array([-0.        ,  9.07007615,  9.09281886,  9.09283849,  9.09298494,\n",
       "         9.09298688,  9.09299676]))"
      ]
     },
     "execution_count": 45,
     "metadata": {},
     "output_type": "execute_result"
    }
   ],
   "source": [
    "x, p, np.vectorize(f)(p)"
   ]
  },
  {
   "cell_type": "code",
   "execution_count": 46,
   "metadata": {},
   "outputs": [],
   "source": [
    "pi = np.arange(-1, 1,0.001)\n",
    "fxs = np.vectorize(f)(pi)"
   ]
  },
  {
   "cell_type": "code",
   "execution_count": 47,
   "metadata": {},
   "outputs": [
    {
     "data": {
      "text/plain": [
       "[<matplotlib.lines.Line2D at 0x16f96eb5520>]"
      ]
     },
     "execution_count": 47,
     "metadata": {},
     "output_type": "execute_result"
    },
    {
     "data": {
      "image/png": "[encoded data removed]",
      "text/plain": [
       "<Figure size 640x480 with 1 Axes>"
      ]
     },
     "metadata": {},
     "output_type": "display_data"
    }
   ],
   "source": [
    "plt.plot(pi, fxs)\n",
    "plt.plot(p, np.vectorize(f)(p), \n",
    "         color='red', marker='o')"
   ]
  },
  {
   "cell_type": "markdown",
   "metadata": {},
   "source": [
    "&nbsp;"
   ]
  },
  {
   "cell_type": "markdown",
   "metadata": {},
   "source": [
    "### GRASP"
   ]
  },
  {
   "cell_type": "markdown",
   "metadata": {},
   "source": [
    "A meta-heuristica grasp remete aos procedimentos construtivs que vemos no inicio d curso, cada iteração uma escolha é realizada até a formação de uma solução completa. Contudo a forma como esta escolha é realizada n GRASP É inovadra e, de certa, forma mais exigente que as metaheuristicas que vimos até o momento.\n",
    "No GRASP supomos que um solução poder ser decomposta em C1, C2, C3, ... Cn, de forma que é possivel contruir uma solução fazendo escolhas sucessivas de sua compenentes.\n",
    "Mais que isso, é preciso que tenhamos um criterio de qualidadde dos componentes, ou seja, uma estimação de quanto a componenet pode construir para a eventual solução a ser formada."
   ]
  },
  {
   "cell_type": "code",
   "execution_count": 48,
   "metadata": {},
   "outputs": [],
   "source": [
    "from scipy.spatial.distance import euclidean\n",
    "\n",
    "def dist(a, b):\n",
    "    return euclidean(a, b)\n",
    "\n",
    "def calculaDistancias(cidades):\n",
    "    distancias = []\n",
    "    tamanho    = np.size(cidades, 0)\n",
    "    for i in range(tamanho):\n",
    "        L = []\n",
    "        for j in range(tamanho):\n",
    "            L.append(\n",
    "                dist(cidades[i], cidades[j])\n",
    "            )\n",
    "        distancias.append(L)\n",
    "    return np.array(distancias)"
   ]
  },
  {
   "cell_type": "code",
   "execution_count": 49,
   "metadata": {},
   "outputs": [],
   "source": [
    "n_cidades = 10\n",
    "cidades_  = np.random.RandomState(1).rand(n_cidades, 2) * 100"
   ]
  },
  {
   "cell_type": "code",
   "execution_count": 50,
   "metadata": {},
   "outputs": [],
   "source": [
    "dist_ = calculaDistancias(cidades_)"
   ]
  },
  {
   "cell_type": "code",
   "execution_count": 51,
   "metadata": {},
   "outputs": [],
   "source": [
    "def GRASPSolucaoIncial(distancia, n):\n",
    "    visitados = [0]\n",
    "\n",
    "    while ( len(visitados) < n ):\n",
    "        proximos = []\n",
    "        \n",
    "        for i in range(n):\n",
    "            ultimoVisitado = visitados[-1]\n",
    "            if i not in visitados:\n",
    "                proximos.append((i, distancia[ultimoVisitado][i]))\n",
    "                \n",
    "        visitado = min(proximos, key=lambda x:x[1])[0]\n",
    "        visitados.append(visitado)\n",
    "\n",
    "    return visitados"
   ]
  },
  {
   "cell_type": "code",
   "execution_count": 52,
   "metadata": {},
   "outputs": [],
   "source": [
    "def distanciaTotal(S, distancias):\n",
    "    distTotal = []\n",
    "    n = len(S)\n",
    "    for i in range(n):\n",
    "        distTotal.append(\n",
    "            distancias[S[i]][(i + 1)%n]\n",
    "            )\n",
    "    return np.sum(distTotal)"
   ]
  },
  {
   "cell_type": "code",
   "execution_count": 53,
   "metadata": {},
   "outputs": [],
   "source": [
    "def GRASPBuscaLocal(S, distancias):\n",
    "    B = S\n",
    "    n = len(S)\n",
    "    for i in range(n - 1):\n",
    "        for j in range( i + 1, n):\n",
    "            S[i], S[j] = S[j], S[i]\n",
    "            if distanciaTotal(S, distancias) < distanciaTotal(B, distancias):\n",
    "                B = S\n",
    "            S[i], S[j] = S[j], S[i]\n",
    "    return B"
   ]
  },
  {
   "cell_type": "code",
   "execution_count": 54,
   "metadata": {},
   "outputs": [],
   "source": [
    "\n",
    "def GRASP(n_cidades, distancias, iteracao):\n",
    "    B = None\n",
    "    menorDist = float(\"inf\")\n",
    "    print(\"solucao inicial :\" , B)\n",
    "    count = 0 \n",
    "    for _ in range(iteracao):\n",
    "        S = GRASPSolucaoIncial(distancias, n_cidades)\n",
    "        S = GRASPBuscaLocal(S, distancias)\n",
    "\n",
    "        distanciasAtual = distanciaTotal(S, distancias)\n",
    "\n",
    "        if distanciasAtual < menorDist:\n",
    "            B = S\n",
    "            menorDist = distanciasAtual\n",
    "            count += 1\n",
    "    \n",
    "    print(f\"\"\"\n",
    "Solucao   = {B},\n",
    "Distancia = {menorDist}\n",
    "B foi modificado {count}\n",
    "\"\"\")\n"
   ]
  },
  {
   "cell_type": "code",
   "execution_count": 55,
   "metadata": {},
   "outputs": [
    {
     "name": "stdout",
     "output_type": "stream",
     "text": [
      "solucao inicial : None\n",
      "\n",
      "Solucao   = [0, 5, 8, 4, 3, 9, 2, 1, 7, 6],\n",
      "Distancia = 448.247415153896\n",
      "B foi modificado 1\n",
      "\n"
     ]
    }
   ],
   "source": [
    "GRASP(n_cidades, dist_, 100)"
   ]
  },
  {
   "cell_type": "markdown",
   "metadata": {},
   "source": [
    "&nbsp;"
   ]
  },
  {
   "cell_type": "markdown",
   "metadata": {},
   "source": [
    "## Problema do Caixeiro Viajante (TSP - Travelling Salesman Problem) "
   ]
  },
  {
   "cell_type": "markdown",
   "metadata": {},
   "source": [
    "Definição:\n",
    "Um caixeiro viajante precisa visitar várias cidades exatamente uma vez cada e retornar à cidade de origem. O objetivo é encontrar a rota mais curta possível que conecte todas as cidades."
   ]
  },
  {
   "cell_type": "code",
   "execution_count": 56,
   "metadata": {},
   "outputs": [],
   "source": [
    "def gerarRotas(numeroCidades=10, seed=10, m = 100):\n",
    "    return np.around(\n",
    "        a = np.random.RandomState(seed=seed).rand(numeroCidades, 2) * m,\n",
    "        decimals = 2\n",
    "        )"
   ]
  },
  {
   "cell_type": "code",
   "execution_count": 163,
   "metadata": {},
   "outputs": [],
   "source": [
    "from scipy.spatial.distance import minkowski, euclidean\n",
    "def distanciaTotal(rotas, type_ = \"euclidian\"):\n",
    "    dist_ = []\n",
    "    for enum, i in enumerate(rotas, start=0):\n",
    "        for j in rotas[enum:]:\n",
    "            dist_.append(\n",
    "                euclidean(i, j) if type_ == 'euclidean' else minkowski(i, j)\n",
    "            )\n",
    "    return np.sum(dist_)"
   ]
  },
  {
   "cell_type": "code",
   "execution_count": 164,
   "metadata": {},
   "outputs": [],
   "source": [
    "rotas = gerarRotas()"
   ]
  },
  {
   "cell_type": "code",
   "execution_count": 165,
   "metadata": {},
   "outputs": [
    {
     "data": {
      "text/plain": [
       "array([[77.13,  2.08],\n",
       "       [63.36, 74.88],\n",
       "       [49.85, 22.48],\n",
       "       [19.81, 76.05],\n",
       "       [16.91,  8.83],\n",
       "       [68.54, 95.34],\n",
       "       [ 0.39, 51.22],\n",
       "       [81.26, 61.25],\n",
       "       [72.18, 29.19],\n",
       "       [91.78, 71.46]])"
      ]
     },
     "execution_count": 165,
     "metadata": {},
     "output_type": "execute_result"
    }
   ],
   "source": [
    "rotas"
   ]
  },
  {
   "cell_type": "markdown",
   "metadata": {},
   "source": [
    "### Força bruta para achar a melhor rota"
   ]
  },
  {
   "cell_type": "code",
   "execution_count": 166,
   "metadata": {},
   "outputs": [],
   "source": [
    "from itertools import permutations\n",
    "def permutacao(cidades=10):\n",
    "    return permutations([i for i in range(cidades)])"
   ]
  },
  {
   "cell_type": "markdown",
   "metadata": {},
   "source": [
    "Testa todas as opções para encontrar o ótimo"
   ]
  },
  {
   "cell_type": "code",
   "execution_count": 167,
   "metadata": {},
   "outputs": [],
   "source": [
    "def forcaoBruta(rotas, cidades, calDistancia ='euclidean'):\n",
    "    S = float('inf') \n",
    "    B = None\n",
    "\n",
    "    # Verificas todas as possibilidades para achar o otimo\n",
    "    for P in permutacao(cidades):\n",
    "        R = distanciaTotal(rotas[P, :], type_='euclidean')    \n",
    "        if R < S:\n",
    "            S = R\n",
    "            B = P\n",
    "        \n",
    "    return rotas[B, :], S , B"
   ]
  },
  {
   "cell_type": "code",
   "execution_count": 168,
   "metadata": {},
   "outputs": [],
   "source": [
    "bestRotas, S, B = forcaoBruta(gerarRotas(8, m=10), 8, 'euclidean')"
   ]
  },
  {
   "cell_type": "code",
   "execution_count": 170,
   "metadata": {},
   "outputs": [
    {
     "data": {
      "text/plain": [
       "(array([[7.71, 0.21],\n",
       "        [6.34, 7.49],\n",
       "        [4.99, 2.25],\n",
       "        [1.98, 7.61],\n",
       "        [1.69, 0.88],\n",
       "        [6.85, 9.53],\n",
       "        [0.04, 5.12],\n",
       "        [8.13, 6.13]]),\n",
       " np.float64(171.7922015720486),\n",
       " (0, 1, 2, 3, 4, 5, 6, 7))"
      ]
     },
     "execution_count": 170,
     "metadata": {},
     "output_type": "execute_result"
    }
   ],
   "source": [
    "bestRotas, S, B"
   ]
  },
  {
   "cell_type": "markdown",
   "metadata": {},
   "source": [
    "### Vizinho mais proximo"
   ]
  },
  {
   "cell_type": "code",
   "execution_count": 305,
   "metadata": {},
   "outputs": [],
   "source": [
    "def distanciasVMP(rotas, cidade):\n",
    "    index = np.argmin([ euclidean(i, cidade) for i in rotas])\n",
    "    print([ euclidean(i, cidade) for i in rotas], index, rotas[index, :])\n",
    "\n",
    "    return rotas[index, :], index"
   ]
  },
  {
   "cell_type": "code",
   "execution_count": 306,
   "metadata": {},
   "outputs": [],
   "source": [
    "def vizinhoMaisProximo(rotas, inicio):\n",
    "    vizitados = [inicio]\n",
    "    rotas_    = [rotas[inicio, :]]\n",
    "    rotas     = np.delete(rotas, inicio, 0)\n",
    "    \n",
    "\n",
    "    while not(len(rotas) == 0):\n",
    "        R, idx = distanciasVMP(rotas, rotas_[-1])\n",
    "        rotas_.append(R)\n",
    "\n",
    "        rotas = np.delete(rotas, idx, 0)\n",
    "        \n",
    "    return rotas_, np.array(vizitados)"
   ]
  },
  {
   "cell_type": "code",
   "execution_count": 307,
   "metadata": {},
   "outputs": [],
   "source": [
    "rotas = gerarRotas(8, m=10)"
   ]
  },
  {
   "cell_type": "code",
   "execution_count": 308,
   "metadata": {},
   "outputs": [
    {
     "name": "stdout",
     "output_type": "stream",
     "text": [
      "[7.407786444006064, 3.4, 9.359107863466475, 6.057169305872174, 9.359594008289033, 9.106975348599555, 5.934879948238212] 1 [4.99 2.25]\n",
      "[5.411108943645471, 6.1473327549434, 3.5730799039484133, 7.513853871349907, 5.721835369879145, 4.991392591251464] 2 [1.69 0.88]\n",
      "[8.081744861105182, 6.736245244941725, 10.072144756704006, 4.549736256092214, 8.308796543423123] 3 [0.04 5.12]\n",
      "[6.731040038508165, 3.1565329081129505, 8.113211448002572, 8.152803198900365] 1 [1.98 7.61]\n",
      "[4.361651063530873, 5.234816138127488, 6.32557507267126] 0 [6.34 7.49]\n",
      "[2.102783869065006, 2.248043593883358] 0 [6.85 9.53]\n",
      "[3.6329602254910527] 0 [8.13 6.13]\n",
      "inicio em  0 S =  171.7922015720486\n",
      "[7.407786444006064, 5.411108943645471, 4.361651063530873, 8.081744861105182, 2.102783869065006, 6.731040038508165, 2.248043593883358] 4 [6.85 9.53]\n",
      "[9.359594008289033, 7.513853871349907, 5.234816138127488, 10.072144756704006, 8.113211448002572, 3.6329602254910527] 5 [8.13 6.13]\n",
      "[5.934879948238212, 4.991392591251464, 6.32557507267126, 8.308796543423123, 8.152803198900365] 1 [4.99 2.25]\n",
      "[3.4, 6.1473327549434, 3.5730799039484133, 5.721835369879145] 0 [7.71 0.21]\n",
      "[9.359107863466475, 6.057169305872174, 9.106975348599555] 1 [1.69 0.88]\n",
      "[6.736245244941725, 4.549736256092214] 1 [0.04 5.12]\n",
      "[3.1565329081129505] 0 [1.98 7.61]\n",
      "inicio em  1 S =  171.7922015720486\n",
      "[3.4, 5.411108943645471, 6.1473327549434, 3.5730799039484133, 7.513853871349907, 5.721835369879145, 4.991392591251464] 0 [7.71 0.21]\n",
      "[7.407786444006064, 9.359107863466475, 6.057169305872174, 9.359594008289033, 9.106975348599555, 5.934879948238212] 5 [8.13 6.13]\n",
      "[2.248043593883358, 6.32557507267126, 8.308796543423123, 3.6329602254910527, 8.152803198900365] 0 [6.34 7.49]\n",
      "[4.361651063530873, 8.081744861105182, 2.102783869065006, 6.731040038508165] 2 [6.85 9.53]\n",
      "[5.234816138127488, 10.072144756704006, 8.113211448002572] 0 [1.98 7.61]\n",
      "[6.736245244941725, 3.1565329081129505] 1 [0.04 5.12]\n",
      "[4.549736256092214] 0 [1.69 0.88]\n",
      "inicio em  2 S =  171.7922015720486\n",
      "[9.359107863466475, 4.361651063530873, 6.1473327549434, 6.736245244941725, 5.234816138127488, 3.1565329081129505, 6.32557507267126] 5 [0.04 5.12]\n",
      "[9.106975348599555, 6.731040038508165, 5.721835369879145, 4.549736256092214, 8.113211448002572, 8.152803198900365] 3 [1.69 0.88]\n",
      "[6.057169305872174, 8.081744861105182, 3.5730799039484133, 10.072144756704006, 8.308796543423123] 2 [4.99 2.25]\n",
      "[3.4, 5.411108943645471, 7.513853871349907, 4.991392591251464] 0 [7.71 0.21]\n",
      "[7.407786444006064, 9.359594008289033, 5.934879948238212] 2 [8.13 6.13]\n",
      "[2.248043593883358, 3.6329602254910527] 0 [6.34 7.49]\n",
      "[2.102783869065006] 0 [6.85 9.53]\n",
      "inicio em  3 S =  171.7922015720486\n",
      "[6.057169305872174, 8.081744861105182, 3.5730799039484133, 6.736245244941725, 10.072144756704006, 4.549736256092214, 8.308796543423123] 2 [4.99 2.25]\n",
      "[3.4, 5.411108943645471, 6.1473327549434, 7.513853871349907, 5.721835369879145, 4.991392591251464] 0 [7.71 0.21]\n",
      "[7.407786444006064, 9.359107863466475, 9.359594008289033, 9.106975348599555, 5.934879948238212] 4 [8.13 6.13]\n",
      "[2.248043593883358, 6.32557507267126, 3.6329602254910527, 8.152803198900365] 0 [6.34 7.49]\n",
      "[4.361651063530873, 2.102783869065006, 6.731040038508165] 1 [6.85 9.53]\n",
      "[5.234816138127488, 8.113211448002572] 0 [1.98 7.61]\n",
      "[3.1565329081129505] 0 [0.04 5.12]\n",
      "inicio em  4 S =  171.7922015720486\n",
      "[9.359594008289033, 2.102783869065006, 7.513853871349907, 5.234816138127488, 10.072144756704006, 8.113211448002572, 3.6329602254910527] 1 [6.34 7.49]\n",
      "[7.407786444006064, 5.411108943645471, 4.361651063530873, 8.081744861105182, 6.731040038508165, 2.248043593883358] 5 [8.13 6.13]\n",
      "[5.934879948238212, 4.991392591251464, 6.32557507267126, 8.308796543423123, 8.152803198900365] 1 [4.99 2.25]\n",
      "[3.4, 6.1473327549434, 3.5730799039484133, 5.721835369879145] 0 [7.71 0.21]\n",
      "[9.359107863466475, 6.057169305872174, 9.106975348599555] 1 [1.69 0.88]\n",
      "[6.736245244941725, 4.549736256092214] 1 [0.04 5.12]\n",
      "[3.1565329081129505] 0 [1.98 7.61]\n",
      "inicio em  5 S =  171.7922015720486\n",
      "[9.106975348599555, 6.731040038508165, 5.721835369879145, 3.1565329081129505, 4.549736256092214, 8.113211448002572, 8.152803198900365] 3 [1.98 7.61]\n",
      "[9.359107863466475, 4.361651063530873, 6.1473327549434, 6.736245244941725, 5.234816138127488, 6.32557507267126] 1 [6.34 7.49]\n",
      "[7.407786444006064, 5.411108943645471, 8.081744861105182, 2.102783869065006, 2.248043593883358] 3 [6.85 9.53]\n",
      "[9.359594008289033, 7.513853871349907, 10.072144756704006, 3.6329602254910527] 3 [8.13 6.13]\n",
      "[5.934879948238212, 4.991392591251464, 8.308796543423123] 1 [4.99 2.25]\n",
      "[3.4, 3.5730799039484133] 0 [7.71 0.21]\n",
      "[6.057169305872174] 0 [1.69 0.88]\n",
      "inicio em  6 S =  171.7922015720486\n",
      "[5.934879948238212, 2.248043593883358, 4.991392591251464, 6.32557507267126, 8.308796543423123, 3.6329602254910527, 8.152803198900365] 1 [6.34 7.49]\n",
      "[7.407786444006064, 5.411108943645471, 4.361651063530873, 8.081744861105182, 2.102783869065006, 6.731040038508165] 4 [6.85 9.53]\n",
      "[9.359594008289033, 7.513853871349907, 5.234816138127488, 10.072144756704006, 8.113211448002572] 2 [1.98 7.61]\n",
      "[9.359107863466475, 6.1473327549434, 6.736245244941725, 3.1565329081129505] 3 [0.04 5.12]\n",
      "[9.106975348599555, 5.721835369879145, 4.549736256092214] 2 [1.69 0.88]\n",
      "[6.057169305872174, 3.5730799039484133] 1 [4.99 2.25]\n",
      "[3.4] 0 [7.71 0.21]\n",
      "inicio em  7 S =  171.7922015720486\n"
     ]
    }
   ],
   "source": [
    "for vmp in range(8):\n",
    "    s = vizinhoMaisProximo(rotas, vmp)[0]\n",
    "    print('inicio em ', vmp, 'S = ', distanciaTotal(rotas))"
   ]
  },
  {
   "cell_type": "code",
   "execution_count": 280,
   "metadata": {},
   "outputs": [
    {
     "data": {
      "text/plain": [
       "np.float64(2471935.7956682458)"
      ]
     },
     "execution_count": 280,
     "metadata": {},
     "output_type": "execute_result"
    }
   ],
   "source": [
    "distanciaTotal(vmp[0])"
   ]
  },
  {
   "cell_type": "code",
   "execution_count": 269,
   "metadata": {},
   "outputs": [],
   "source": [
    "x, y= np.array(vmp[0])[:,0], np.array(vmp[0])[:, 1]"
   ]
  },
  {
   "cell_type": "code",
   "execution_count": null,
   "metadata": {},
   "outputs": [
    {
     "data": {
      "text/plain": [
       "np.float64(247190.42756026483)"
      ]
     },
     "execution_count": 241,
     "metadata": {},
     "output_type": "execute_result"
    }
   ],
   "source": []
  },
  {
   "cell_type": "code",
   "execution_count": 270,
   "metadata": {},
   "outputs": [
    {
     "data": {
      "image/png": "[encoded data removed]",
      "text/plain": [
       "<Figure size 640x480 with 1 Axes>"
      ]
     },
     "metadata": {},
     "output_type": "display_data"
    }
   ],
   "source": [
    "plt.plot(x, y, '-o')\n",
    "plt.show()"
   ]
  },
  {
   "cell_type": "markdown",
   "metadata": {},
   "source": [
    "### Vizinho mais proximo verificando todas as cidades no inicio"
   ]
  },
  {
   "cell_type": "code",
   "execution_count": 207,
   "metadata": {},
   "outputs": [],
   "source": [
    "def vmpCompleta(rotas, cidades):\n",
    "    S_ = [vizinhoMaisProximo(rotas, inicio) for inicio in range(cidades)]\n",
    "    return ([[distanciaTotal(rotas), caminho] for rotas, caminho in S_]), S_"
   ]
  },
  {
   "cell_type": "code",
   "execution_count": 208,
   "metadata": {},
   "outputs": [
    {
     "data": {
      "text/plain": [
       "[[np.float64(247190.42756026483),\n",
       "  array([ 0, 73, 55, 85, 25, 27, 15, 54, 35, 43, 25, 14, 71,  6, 71, 43, 76,\n",
       "         31,  7, 68, 78, 68, 56, 15, 59, 67, 55, 38, 21,  4,  0, 51, 54, 30,\n",
       "         48, 26,  8,  8, 17, 38, 52,  7, 52, 25,  0, 42, 46, 12, 51, 12, 18,\n",
       "         19, 40, 42,  1, 30, 27, 41,  5, 12, 24, 11, 12, 32, 18,  1,  5, 31,\n",
       "         20, 26,  4,  4,  0, 16,  6,  3,  2,  4, 10,  8,  9,  7,  9, 13, 12,\n",
       "          9, 12,  5,  1,  5,  8,  5,  3,  6,  0,  3,  1,  0,  0,  0])],\n",
       " [np.float64(247190.42756026483),\n",
       "  array([ 1, 85, 69, 19, 73, 85, 68, 48, 28,  4, 77, 81, 34,  7, 45,  5, 72,\n",
       "         11, 69, 10, 64, 35, 56, 31,  9, 22, 47, 64,  8, 64, 31,  1, 53, 57,\n",
       "         14, 64, 14, 23, 25, 51, 54,  2, 39, 35, 53,  7, 17, 32, 16, 17, 43,\n",
       "         25,  2,  7, 43, 29, 37,  6,  6,  1, 25, 11,  5,  3,  9, 17, 15, 16,\n",
       "         13, 18, 24, 22, 18, 24, 11,  2, 12, 19, 14, 17, 12, 16,  4,  6,  2,\n",
       "          9,  5,  7,  4,  1,  3,  7,  0,  5,  5,  3,  1,  0,  0,  0])],\n",
       " [np.float64(247190.42756026483),\n",
       "  array([ 2, 44, 95, 40,  7, 27, 24, 82, 50, 67, 57, 78, 47,  8, 64, 71, 21,\n",
       "         82, 21, 30, 33, 64, 71,  3, 49, 44, 72, 13, 24, 41, 23, 24, 56, 35,\n",
       "          4, 13, 62, 38, 49, 12, 13,  2, 34, 18, 12,  5, 16, 27, 24, 26, 22,\n",
       "         27, 37, 34, 27, 43, 19, 41,  5, 37, 24, 14, 30, 17, 23, 16,  5,  5,\n",
       "         25,  5, 24,  3, 15, 25, 10,  3, 20, 22, 20, 16,  4, 17, 17, 15, 11,\n",
       "          7,  2,  1, 11,  3,  2,  4,  7,  6,  2,  3,  2,  2,  1,  0])],\n",
       " [np.float64(247190.42756026483),\n",
       "  array([ 3, 59, 20, 17, 73, 57, 89, 17,  5, 73, 30, 45, 64, 68, 57, 80, 15,\n",
       "         27, 48, 26, 76, 47, 49,  3, 70, 60, 32, 27, 71, 18, 58, 54,  2, 31,\n",
       "         64, 28,  4, 19, 16, 55, 36, 46, 38, 51, 33,  5, 14, 23, 50,  6, 46,\n",
       "         32, 16, 39, 21, 32, 20,  6,  6, 34,  6, 33,  3, 21, 34, 14,  3, 29,\n",
       "         31, 29, 25,  5, 26, 26, 24, 17,  9,  2,  1, 20,  1,  7, 12, 11, 11,\n",
       "          9, 11,  2,  5,  2,  2,  4,  7,  6,  2,  3,  2,  2,  1,  0])],\n",
       " [np.float64(247190.42756026486),\n",
       "  array([ 4, 90, 79, 41, 36, 94, 24, 78, 71,  2, 40, 87, 37,  6, 25, 22, 75,\n",
       "         46, 63, 53, 71, 43,  7, 20, 32, 50, 60, 56, 38, 58, 27, 24, 39, 24,\n",
       "         13, 61, 62, 37, 41,  4, 13, 57, 37, 46, 12, 13,  2, 33, 18, 12,  5,\n",
       "         16, 26, 23, 25, 21, 26, 38,  5, 39, 26, 18, 30, 14, 22, 26,  1, 29,\n",
       "         23,  8, 23, 26, 22, 17, 11,  1, 21, 21, 10,  2, 13,  1, 16,  3, 14,\n",
       "          2,  1,  6,  5,  7,  1,  5,  3,  4,  5,  2,  1,  1,  1,  0])],\n",
       " [np.float64(247190.42756026486),\n",
       "  array([ 5, 29, 69, 48, 19, 66, 80,  1, 90, 65, 70, 40, 62, 36, 11, 11, 68,\n",
       "         11, 68,  5, 41, 72, 30,  6, 64, 53, 57, 65, 19, 15, 13, 11, 53, 43,\n",
       "         62, 11,  4, 52, 20, 31, 45, 47, 43, 53,  9, 17, 33, 16, 49, 32, 35,\n",
       "          3, 44, 39, 20, 17, 43, 10, 36, 35,  1, 18, 37, 16,  2, 10,  8, 30,\n",
       "         21, 27, 24, 26, 18,  2,  6, 11, 23,  3, 21, 18,  6,  2,  6, 11, 10,\n",
       "         10,  8, 11, 10,  1,  4,  2,  4,  6,  3,  4,  1,  2,  1,  0])],\n",
       " [np.float64(247190.42756026483),\n",
       "  array([ 6, 80, 34, 49, 70, 75, 63, 87, 16, 31, 52, 30, 84, 51, 55,  4, 77,\n",
       "         67, 36, 31, 79, 22, 65, 60,  2, 35, 72, 32,  5, 23, 20, 62, 40, 52,\n",
       "         44, 58, 37,  6, 18, 27, 57,  7, 53, 38, 20, 46, 25, 38, 24,  7,  7,\n",
       "         41,  7, 40,  4, 25, 41, 18,  4, 36, 39, 36, 31,  8, 32, 33, 30, 21,\n",
       "         13,  3,  1, 26,  2, 11, 16, 15, 15, 13, 17, 15,  1, 14, 17, 16,  2,\n",
       "          3,  4,  4,  5,  3,  2,  4,  7,  6,  2,  3,  2,  2,  1,  0])],\n",
       " [np.float64(247190.42756026486),\n",
       "  array([ 7, 83, 14, 80, 13, 75, 41, 64, 37, 12, 27, 55, 77, 11, 79, 37,  2,\n",
       "         63, 68, 18, 79, 18, 28, 31, 62, 68,  3, 47, 43, 68, 10, 22, 40, 21,\n",
       "         22, 54, 32,  4, 10, 58, 37, 48,  9, 10,  2, 33, 16,  9,  6, 14, 25,\n",
       "         21, 24, 19, 26, 35, 32, 26, 39, 17,  5, 20, 32, 22, 27, 20, 29,  8,\n",
       "         10,  5, 17, 11, 13,  8,  4,  8, 21, 11, 17, 20, 17, 13,  4, 14, 14,\n",
       "         12,  9,  6,  2,  1,  8,  3,  2,  3,  4,  4,  2,  1,  0,  0])],\n",
       " [np.float64(247190.42756026486),\n",
       "  array([ 8, 28, 25, 85, 53, 70, 60, 81, 50,  9,  2, 40, 85, 36, 64, 71, 21,\n",
       "         82, 21, 30, 33, 64, 71,  3, 49, 44, 72, 13, 24, 41, 23, 24, 56, 35,\n",
       "          4, 13, 62, 38, 49, 12, 13,  2, 34, 18, 12,  5, 16, 27, 24, 26, 22,\n",
       "         27, 37, 34, 27, 43, 19, 41,  5, 37, 24, 14, 30, 17, 23, 16,  5,  5,\n",
       "         25,  5, 24,  3, 15, 25, 10,  3, 20, 22, 20, 16,  4, 17, 17, 15, 11,\n",
       "          7,  2,  1, 11,  3,  2,  4,  7,  6,  2,  3,  2,  2,  1,  0])],\n",
       " [np.float64(247190.42756026483),\n",
       "  array([ 9, 37, 90, 50,  7, 80, 13, 77, 12, 72, 39, 61, 35, 11, 26, 52, 74,\n",
       "         10, 75, 35,  2, 60, 65, 17, 75, 17, 27, 29, 59, 65,  3, 44, 40, 64,\n",
       "          9, 21, 37, 20, 21, 51, 30,  4,  9, 54, 34, 45,  8,  9,  2, 30, 15,\n",
       "          8,  5, 13, 22, 19, 21, 17, 23, 32, 29, 23, 35, 15,  4, 17, 29, 19,\n",
       "         24, 17, 26,  7,  9,  4, 14,  9, 11,  7,  3,  7, 18,  0, 12,  0, 13,\n",
       "          9,  1,  9, 10,  8,  5,  3,  0,  5,  5,  3,  1,  0,  0,  0])]]"
      ]
     },
     "execution_count": 208,
     "metadata": {},
     "output_type": "execute_result"
    }
   ],
   "source": [
    "A = vmpCompleta(rotas, 10)\n",
    "A[0]"
   ]
  },
  {
   "cell_type": "code",
   "execution_count": 155,
   "metadata": {},
   "outputs": [
    {
     "data": {
      "text/plain": [
       "(np.float64(5282.012336092314), np.float64(5282.012336092314))"
      ]
     },
     "execution_count": 155,
     "metadata": {},
     "output_type": "execute_result"
    }
   ],
   "source": [
    "distanciaTotal(A[1][0][0]),distanciaTotal(A[1][1][0])"
   ]
  }
 ],
 "metadata": {
  "kernelspec": {
   "display_name": "Python 3",
   "language": "python",
   "name": "python3"
  },
  "language_info": {
   "codemirror_mode": {
    "name": "ipython",
    "version": 3
   },
   "file_extension": ".py",
   "mimetype": "text/x-python",
   "name": "python",
   "nbconvert_exporter": "python",
   "pygments_lexer": "ipython3",
   "version": "3.12.7"
  }
 },
 "nbformat": 4,
 "nbformat_minor": 2
}
