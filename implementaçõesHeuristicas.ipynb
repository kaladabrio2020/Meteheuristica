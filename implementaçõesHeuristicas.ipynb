{
 "cells": [
  {
   "cell_type": "code",
   "execution_count": 18,
   "metadata": {},
   "outputs": [],
   "source": [
    "import random\n",
    "import numpy as np\n",
    "import pandas as pd\n",
    "import matplotlib.pyplot as plt"
   ]
  },
  {
   "cell_type": "markdown",
   "metadata": {},
   "source": [
    "## Heuristica"
   ]
  },
  {
   "cell_type": "markdown",
   "metadata": {},
   "source": [
    "São comumente usados para resolver problemas grandes. São metodos  que fornece soluções factíveis, não necessariamente ótimas, em tempo relativamente pequeno.\n",
    "Muitas das regras e decisões em PCP e Logísticas são heurísticas\n",
    "\n",
    "**Heuristicas Construtivas:** controem um solução inicial para o problema, sem partir de um solução anterior\n",
    "\n",
    "**Heuristicas de busca local:** melhoram uma soluçao já existente, por meio de movimentos(mudanças) sobre essa solução.\n",
    "\n",
    "**Meta-heurístias:** Heurísticas que guiam heurísticas. Ex: Busca tabu, Colonias de formigas, Simulated Annealing..\n"
   ]
  },
  {
   "cell_type": "markdown",
   "metadata": {},
   "source": [
    "### Problema de mochila\n",
    "\n",
    "$$\n",
    "max{\\sum{P_iX_i}} \\\\\n",
    "s.a \\sum{W_i*X_i} <= W\n",
    "$$"
   ]
  },
  {
   "cell_type": "markdown",
   "metadata": {},
   "source": [
    "1. Ordenar os itens de ordem decrescente da utilidade relativa $\\frac{u_i}{p_i}$ \n",
    "    * sendo que indica o item que está na posição\n",
    "2. Na ordem definidia, escolhe os itens integralmente (fazendo $x_i$ = 1) até atingir a capacidade da mochila(sem violá-la)\n"
   ]
  },
  {
   "cell_type": "code",
   "execution_count": 19,
   "metadata": {},
   "outputs": [],
   "source": [
    "# Ordenar os itens por utilidade relativa\n",
    "def utilidade_relativa(utilidade, peso):\n",
    "    # Calcular a utilidade relativa\n",
    "    dict = {enum_ : round((u_i/p_i),2) for enum_,(u_i, p_i) in enumerate(zip(utilidade , peso))}\n",
    "    \n",
    "    # Ordenar o dicionário por utilidade relativa\n",
    "    return sorted(dict.items(), key=lambda item: item[1], reverse=True)\n",
    "\n",
    "\n",
    "# Maximar a utilidade, sem ultrapassar o peso máximo\n",
    "def mochilaGulosaConstrutiva(U_, P_, W_=5):\n",
    "    # Ordenar os itens por utilidade relativa\n",
    "    itens = utilidade_relativa(U_, P_)\n",
    "    print(pd.DataFrame(itens, columns=['Item', 'Utilidade Relativa']))\n",
    "    \n",
    "    # Inicializar variáveis\n",
    "    custo_total = 0\n",
    "    utilidade_total = 0\n",
    "    iter_       = 0\n",
    "    \n",
    "    # Escolhendo os que tem melhor critério\n",
    "    solucao = {}\n",
    "\n",
    "    print(\"\\n\", \"_\"*50, \"\\n\")\n",
    "    # Iterar sobre os itens\n",
    "    for item in itens:\n",
    "        # Verificar se o peso do item não ultrapassa o peso máximo\n",
    "        if custo_total + P_[item[0]] <= W_:\n",
    "            # Atualizando o custo total\n",
    "            custo_total = custo_total + P_[item[0]]\n",
    "\n",
    "            # Atualizando a utilidade relativa total\n",
    "            utilidade_total += U_[item[0]] \n",
    "            # Adicionando o item na solução\n",
    "            solucao[item[0]] = P_[item[0]]\n",
    "\n",
    "            print(\" custo total = \", custo_total, \" items adiciondo \", item[0])\n",
    "        else : \n",
    "            print(f\" item {item[0]} não foi adicionado, pois ultrapassa o peso máximo\")\n",
    "\n",
    "    # Retornar a solução e o custo total\n",
    "    print(f\"\"\"\n",
    "Solução.........: {solucao} \n",
    "Custo total.....: {custo_total} \n",
    "Utilidade total.: {utilidade_total}\n",
    "    \"\"\")\n",
    "    return solucao, custo_total"
   ]
  },
  {
   "cell_type": "code",
   "execution_count": 20,
   "metadata": {},
   "outputs": [],
   "source": [
    "# peso_maximo = 5kg\n",
    "peso_maximo = 5\n",
    "utilidade = [\n",
    "    6, \n",
    "    9, \n",
    "    7, \n",
    "    3, \n",
    "    5, \n",
    "    10, \n",
    "    2, \n",
    "    6\n",
    "]\n",
    "peso_gramas = [\n",
    "    200,\n",
    "    1000,\n",
    "    400,\n",
    "    400,\n",
    "    200,\n",
    "    3000,\n",
    "    100,\n",
    "    500\n",
    "]\n",
    "peso_kg = [p/1000 for p in peso_gramas]\n"
   ]
  },
  {
   "cell_type": "code",
   "execution_count": 21,
   "metadata": {},
   "outputs": [
    {
     "name": "stdout",
     "output_type": "stream",
     "text": [
      "   Item  Utilidade Relativa\n",
      "0     0               30.00\n",
      "1     4               25.00\n",
      "2     6               20.00\n",
      "3     2               17.50\n",
      "4     7               12.00\n",
      "5     1                9.00\n",
      "6     3                7.50\n",
      "7     5                3.33\n",
      "\n",
      " __________________________________________________ \n",
      "\n",
      " custo total =  0.2  items adiciondo  0\n",
      " custo total =  0.4  items adiciondo  4\n",
      " custo total =  0.5  items adiciondo  6\n",
      " custo total =  0.9  items adiciondo  2\n",
      " custo total =  1.4  items adiciondo  7\n",
      " custo total =  2.4  items adiciondo  1\n",
      " custo total =  2.8  items adiciondo  3\n",
      " item 5 não foi adicionado, pois ultrapassa o peso máximo\n",
      "\n",
      "Solução.........: {0: 0.2, 4: 0.2, 6: 0.1, 2: 0.4, 7: 0.5, 1: 1.0, 3: 0.4} \n",
      "Custo total.....: 2.8 \n",
      "Utilidade total.: 38\n",
      "    \n"
     ]
    },
    {
     "data": {
      "text/plain": [
       "({0: 0.2, 4: 0.2, 6: 0.1, 2: 0.4, 7: 0.5, 1: 1.0, 3: 0.4}, 2.8)"
      ]
     },
     "execution_count": 21,
     "metadata": {},
     "output_type": "execute_result"
    }
   ],
   "source": [
    "mochilaGulosaConstrutiva(utilidade, peso_kg, peso_maximo)"
   ]
  },
  {
   "cell_type": "markdown",
   "metadata": {},
   "source": [
    "&nbsp;"
   ]
  },
  {
   "cell_type": "markdown",
   "metadata": {},
   "source": [
    "Modificando o problema da mochila para uma busca local"
   ]
  },
  {
   "cell_type": "code",
   "execution_count": 22,
   "metadata": {},
   "outputs": [],
   "source": [
    "# Ordenar os itens por utilidade relativa\n",
    "def utilidade_relativa(utilidade, peso):\n",
    "    # Calcular a utilidade relativa\n",
    "    dict = {enum_ : round((u_i/p_i),2) for enum_,(u_i, p_i) in enumerate(zip(utilidade , peso))}\n",
    "    \n",
    "    # Ordenar o dicionário por utilidade relativa\n",
    "    return sorted(dict.items(), key=lambda item: item[1], reverse=True)"
   ]
  },
  {
   "cell_type": "code",
   "execution_count": 23,
   "metadata": {},
   "outputs": [],
   "source": [
    "def solucaoInicial(U_, P_, W_, itens):\n",
    "    # Lista da solução inicial\n",
    "    inicialList = {\n",
    "        'item':[],\n",
    "        'peso':[]\n",
    "    }\n",
    "\n",
    "    # Inicializar variáveis\n",
    "    custo_total     = 0\n",
    "    utilidade_total = []\n",
    "    \n",
    "    for item, _ in itens:\n",
    "        \n",
    "        # Verificar se o peso do item não ultrapassa o peso máximo\n",
    "        if custo_total + P_[item] <= W_:\n",
    "            # Atualizando o custo total\n",
    "            custo_total = custo_total + P_[item]\n",
    "\n",
    "            # Atualizando a utilidade relativa total\n",
    "            utilidade_total.append(U_[item]) \n",
    "            \n",
    "            # Adicionando o item na solução\n",
    "            inicialList[\"item\"].append(item)\n",
    "            inicialList[\"peso\"].append(P_[item])\n",
    "\n",
    "    return {\n",
    "        \"solucao\": inicialList,\n",
    "        \"utilidade_total_list\": utilidade_total,\n",
    "        \"utilidade_total\": sum(utilidade_total)\n",
    "    }  "
   ]
  },
  {
   "cell_type": "code",
   "execution_count": 24,
   "metadata": {},
   "outputs": [],
   "source": [
    "def mochilaBuscaLocal(utilidade, peso, W_=5, maxIter=100, removeItem =  \"random\"):\n",
    "    # Ordenar os itens por utilidade relativa\n",
    "    itens = utilidade_relativa(utilidade, peso)\n",
    "    \n",
    "    # Inicializar variáveis\n",
    "    custo_total     = 0\n",
    "    solucaoI_ = solucaoInicial(utilidade, peso, W_,itens)\n",
    "    print(\"Solucao inicial : \",solucaoI_,\"\\n\")\n",
    "    \n",
    "\n",
    "    # Iterar sobre os itens\n",
    "    for _ in range(maxIter):\n",
    "        # Pegar a solução inicial ou solução n\n",
    "        S_ = solucaoI_[\"solucao\"]\n",
    "\n",
    "        # Pegar a utilidade total da solução inicial ou solução n\n",
    "        U_ = solucaoI_[\"utilidade_total_list\"]\n",
    "        \n",
    "\n",
    "        # remover um item aleatório\n",
    "        match removeItem:\n",
    "            case \"random\": i = np.random.choice(range(len(S_['peso'])))\n",
    "\n",
    "            # remover o item com maior peso\n",
    "            case \"max\" : i = S_['peso'].index(max(S_['peso']))\n",
    "         \n",
    "            # remover o item com menor peso\n",
    "            case \"min\" : i = S_['peso'].index(min(S_['peso']))\n",
    "    \n",
    "            # remover o item com maior utilidade\n",
    "            case \"max utility\": i = U_.index(max(U_))\n",
    "\n",
    "            # remover o item com menor utilidade\n",
    "            case \"min utility\": i = U_.index(min(U_))\n",
    "            \n",
    "        \n",
    "\n",
    "        valores_restantes = [item for item in itens if item[0] not in S_['item']]\n",
    "\n",
    "        del S_['item'][i]\n",
    "        del S_['peso'][i]\n",
    "        del U_[i]\n",
    "        \n",
    "        custo_total = sum(S_['peso'])        \n",
    "\n",
    "        # Verificar se o peso do item não ultrapassa o peso máximo\n",
    "        for item, _ in valores_restantes:\n",
    "            \n",
    "            # Verificar se o peso do item não ultrapassa o peso máximo \n",
    "            # e se o item não foi removido \n",
    "            if custo_total + peso[item] <= W_:\n",
    "                # Atualizando o custo total\n",
    "                custo_total = custo_total + peso[item]\n",
    "\n",
    "                U_.append(utilidade[item])\n",
    "                # Adicionando o item na solução\n",
    "                S_['item'].append(item)\n",
    "                S_['peso'].append(peso[item])  \n",
    "                \n",
    "        if sum(U_) > solucaoI_[\"utilidade_total\"]:\n",
    "            solucaoI_[\"solucao\"] = S_\n",
    "            solucaoI_[\"utilidade_total\"] = sum(U_)\n",
    "            solucaoI_[\"utilidade_total_list\"] = U_\n",
    "            solucaoI_[\"custo_total\"] = custo_total\n",
    " \n",
    "    return solucaoI_"
   ]
  },
  {
   "cell_type": "markdown",
   "metadata": {},
   "source": [
    "Removendo da mochila os items de maxima utilidade"
   ]
  },
  {
   "cell_type": "code",
   "execution_count": 25,
   "metadata": {},
   "outputs": [
    {
     "name": "stdout",
     "output_type": "stream",
     "text": [
      "Solucao inicial :  {'solucao': {'item': [0, 4, 6, 2, 7, 1, 3], 'peso': [0.2, 0.2, 0.1, 0.4, 0.5, 1.0, 0.4]}, 'utilidade_total_list': [6, 5, 2, 7, 6, 9, 3], 'utilidade_total': 38} \n",
      "\n"
     ]
    }
   ],
   "source": [
    "S_ = mochilaBuscaLocal(utilidade, peso_kg, peso_maximo, maxIter=100, removeItem=\"max utility\")"
   ]
  },
  {
   "cell_type": "code",
   "execution_count": 26,
   "metadata": {},
   "outputs": [
    {
     "name": "stdout",
     "output_type": "stream",
     "text": [
      "\n",
      "4.8\n",
      "39\n",
      "[6, 5, 2, 7, 6, 3, 9]\n",
      "{'item': [0, 4, 6, 2, 7, 3, 1], 'peso': [0.2, 0.2, 0.1, 0.4, 0.5, 0.4, 1.0]}\n",
      "\n"
     ]
    }
   ],
   "source": [
    "print(f\"\"\"\n",
    "{S_[\"custo_total\"]}\n",
    "{S_[\"utilidade_total\"]}\n",
    "{S_[\"utilidade_total_list\"]}\n",
    "{S_[\"solucao\"]}\n",
    "\"\"\")"
   ]
  },
  {
   "cell_type": "markdown",
   "metadata": {},
   "source": [
    "Removendo o aletoriamente"
   ]
  },
  {
   "cell_type": "code",
   "execution_count": 27,
   "metadata": {},
   "outputs": [
    {
     "name": "stdout",
     "output_type": "stream",
     "text": [
      "Solucao inicial :  {'solucao': {'item': [0, 4, 6, 2, 7, 1, 3], 'peso': [0.2, 0.2, 0.1, 0.4, 0.5, 1.0, 0.4]}, 'utilidade_total_list': [6, 5, 2, 7, 6, 9, 3], 'utilidade_total': 38} \n",
      "\n"
     ]
    }
   ],
   "source": [
    "S_ = mochilaBuscaLocal(utilidade, peso_kg, peso_maximo, maxIter=100, removeItem=\"random\")"
   ]
  },
  {
   "cell_type": "code",
   "execution_count": 28,
   "metadata": {},
   "outputs": [
    {
     "name": "stdout",
     "output_type": "stream",
     "text": [
      "\n",
      "4.800000000000001\n",
      "39\n",
      "[5, 9, 2, 7, 3, 6]\n",
      "{'item': [4, 1, 6, 2, 3, 7], 'peso': [0.2, 1.0, 0.1, 0.4, 0.4, 0.5]}\n",
      "\n"
     ]
    }
   ],
   "source": [
    "print(f\"\"\"\n",
    "{S_[\"custo_total\"]}\n",
    "{S_[\"utilidade_total\"]}\n",
    "{S_[\"utilidade_total_list\"]}\n",
    "{S_[\"solucao\"]}\n",
    "\"\"\")"
   ]
  },
  {
   "cell_type": "markdown",
   "metadata": {},
   "source": [
    "### Observações"
   ]
  },
  {
   "cell_type": "markdown",
   "metadata": {},
   "source": [
    "### Heuristicas\n",
    "\n",
    "São algortimos que geram uma soluçao viável, mas não dão \n",
    "\n",
    "Podem ser:\n",
    "* Construtivas, produzem uma solução viável, muitas vezes usando estratégia gulosa\n",
    "\n",
    "* Busca Local, partem de uma solução inicial e vai melhoram  atraves de pequenas modificações.\n"
   ]
  },
  {
   "cell_type": "markdown",
   "metadata": {},
   "source": [
    "&nbsp;"
   ]
  },
  {
   "cell_type": "markdown",
   "metadata": {},
   "source": [
    "### MetaHeuristica"
   ]
  },
  {
   "cell_type": "markdown",
   "metadata": {},
   "source": [
    "Metaheuristica é um procedimento sistemático, estocasticos e inexato para realizar a otimização de um processo. Para executar um metaheuristica precisamo de 4 condições:\n",
    "1. Contruir um solução inicial\n",
    "2. Avaliar a qualidade de uma solução\n",
    "3. Ajustar uma solução para obter um nova\n",
    "4. copiar uma solução\n",
    "\n",
    "Primeira metaheuristicas que podemos explorar é a tentativa de reproduzir o método da subidade do gradiente. Nela vamos, a partir de uma solução inicial fazer um ajuste e comparar-se a solução obtiva é melhor que a solução atual.\n",
    "\n",
    "#### Subida na colina"
   ]
  },
  {
   "cell_type": "markdown",
   "metadata": {},
   "source": [
    "```pseudo\n",
    "entrada : S inicial\n",
    "saida   : S otimo\n",
    "\n",
    "inicio:\n",
    "    ENQUANTO <condição> FAÇA:\n",
    "        r <- ajusta(S)\n",
    "        SE Q(R) > Q(S) ENTÃO:\n",
    "            S <- R\n",
    "        END\n",
    "    END\n",
    "    RETURN S\n",
    "    \n",
    "```"
   ]
  },
  {
   "cell_type": "code",
   "execution_count": 29,
   "metadata": {},
   "outputs": [],
   "source": [
    "def ajutar(inicial):\n",
    "    return round(np.random.uniform(low=inicial - 1, high=inicial + 1, size=100)[0], 3)\n",
    "\n",
    "def subidaColina(f, inicial, maxIter=10):\n",
    "    iter_ = 0\n",
    "    while iter_ != maxIter:\n",
    "        \n",
    "        R = ajutar(inicial) \n",
    "        if f(R) > f(inicial): \n",
    "            inicial = R\n",
    "        iter_ += 1\n",
    "\n",
    "    return inicial"
   ]
  },
  {
   "cell_type": "code",
   "execution_count": 30,
   "metadata": {},
   "outputs": [
    {
     "data": {
      "text/plain": [
       "np.float64(-24.328)"
      ]
     },
     "execution_count": 30,
     "metadata": {},
     "output_type": "execute_result"
    }
   ],
   "source": [
    "f = lambda x:  x**2 - 4*x + 4\n",
    "x  = subidaColina(f, np.random.RandomState(1).random(1), 100)\n",
    "x"
   ]
  },
  {
   "cell_type": "code",
   "execution_count": 31,
   "metadata": {},
   "outputs": [
    {
     "data": {
      "image/png": "[encoded data removed]",
      "text/plain": [
       "<Figure size 640x480 with 1 Axes>"
      ]
     },
     "metadata": {},
     "output_type": "display_data"
    }
   ],
   "source": [
    "plt.plot(np.arange(-100,100,0.1),f(np.arange(-100,100,0.1)))\n",
    "plt.plot(x,f(x), color='red', marker='o')   \n",
    "plt.show()"
   ]
  },
  {
   "cell_type": "markdown",
   "metadata": {},
   "source": [
    "#### Subida da colina global"
   ]
  },
  {
   "cell_type": "markdown",
   "metadata": {},
   "source": [
    "Podemos modificar o algoritmo da subida da colina para procurar não apenas a primeira mas a melhor solução ajustada a partir de um solução referencia. Este conj. de soluções candidatas é chamada de vizinhança da solução de referencia e pode ser gerada de maneira deterministica ou estocatica. Apos gerado o conj. o algortiom seleciona a melhor solução candidata que possa ser a referencia."
   ]
  },
  {
   "cell_type": "markdown",
   "metadata": {},
   "source": [
    "```pseudo\n",
    "entrada : S inicial\n",
    "saida   : S otimo\n",
    "\n",
    "inicio:\n",
    "    ENQUANTO <condição> FAÇA:\n",
    "        r <-<argumento>MAX{Q(R') : R'<- ajusta(S)}\n",
    "        SE Q(R) > Q(S) ENTÃO:\n",
    "            S <- R\n",
    "        END\n",
    "    END\n",
    "    RETURN S\n",
    "```"
   ]
  },
  {
   "cell_type": "code",
   "execution_count": 32,
   "metadata": {},
   "outputs": [],
   "source": [
    "def ajutar(inicial):\n",
    "    stocastic = np.random.normal(loc=inicial, scale=1, size=2)\n",
    "    return stocastic[np.argmax(f(stocastic))]\n",
    "\n",
    "def subidaColina(f, inicial, maxIter=100, memoria=False):\n",
    "    print(\"solucao Inicial :\", inicial, \"f(inicial) : \", f(inicial))\n",
    "    iter_ = 0\n",
    "    pontos = [inicial]\n",
    "    while iter_ != maxIter :\n",
    "        \n",
    "        R = ajutar(inicial)\n",
    "        if np.isinf(f(R)): break\n",
    "\n",
    "        if f(R) > f(inicial):    \n",
    "            inicial = R\n",
    "            if memoria: pontos.append(inicial)\n",
    "        iter_ += 1\n",
    "\n",
    "    return inicial, np.array(pontos)"
   ]
  },
  {
   "cell_type": "code",
   "execution_count": 33,
   "metadata": {},
   "outputs": [
    {
     "name": "stdout",
     "output_type": "stream",
     "text": [
      "solucao Inicial : 10 f(inicial) :  -104.5623790762907\n"
     ]
    },
    {
     "data": {
      "text/plain": [
       "np.float64(0.0016083944034060473)"
      ]
     },
     "execution_count": 33,
     "metadata": {},
     "output_type": "execute_result"
    }
   ],
   "source": [
    "f = lambda x:  -1 * (x **2 + 4 + np.cos(x**3))\n",
    "x,p  = subidaColina(f, 10, 100, memoria=True)\n",
    "x"
   ]
  },
  {
   "cell_type": "code",
   "execution_count": 34,
   "metadata": {},
   "outputs": [
    {
     "data": {
      "image/png": "[encoded data removed]",
      "text/plain": [
       "<Figure size 640x480 with 1 Axes>"
      ]
     },
     "metadata": {},
     "output_type": "display_data"
    }
   ],
   "source": [
    "pi = np.arange(-10,10,0.01)\n",
    "plt.plot(pi,f(pi))\n",
    "plt.plot(p,f(p), color='red', marker='o')   \n",
    "plt.show()"
   ]
  },
  {
   "cell_type": "markdown",
   "metadata": {},
   "source": [
    "\n",
    "#### Caminhada aleatória\n",
    "Outra modificação possivel da subida da colina é a tomar de referencia não apenas com melhor solução encontrada mas ultima solução encontrada. Nesse caso estamos fazendo para solução possivelmente piores, mas que contribuem  para desangua no processo. Como importante conseguencia este agoritmo não para em otimos locais é a nossa primeira metaheuristica de otimização global."
   ]
  },
  {
   "cell_type": "markdown",
   "metadata": {},
   "source": [
    "```pseudo\n",
    "entrada : S inicial\n",
    "saida   : S otimo\n",
    "\n",
    "inicio:\n",
    "    R <- S\n",
    "    ENQUANTO <condição> FAÇA:\n",
    "        R <- ajusta(S)\n",
    "        SE Q(R) > Q(S) ENTÃO:\n",
    "            S <- R\n",
    "        END\n",
    "    END\n",
    "    RETURN S\n",
    "```"
   ]
  },
  {
   "cell_type": "code",
   "execution_count": 35,
   "metadata": {},
   "outputs": [],
   "source": [
    "def ajutarA(inicial):\n",
    "    stocastic = np.random.normal(loc=inicial, scale=1, size=2)\n",
    "    return np.random.choice(stocastic, 1)[0]\n",
    "\n",
    "def caminhadaAleatoria(f, inicial, maxIter=100, memoria=False):\n",
    "    print(\"solucao Inicial :\", inicial, \"f(inicial) : \", f(inicial))\n",
    "    iter_ = 0\n",
    "    pontos = [inicial]\n",
    "    while iter_ != maxIter :\n",
    "        \n",
    "        R = ajutarA(inicial)\n",
    "        if np.isinf(f(R)): break\n",
    "\n",
    "        if f(R) > f(inicial):    \n",
    "            inicial = R\n",
    "            if memoria: pontos.append(inicial)\n",
    "        iter_ += 1\n",
    "\n",
    "    return inicial, np.array(pontos)"
   ]
  },
  {
   "cell_type": "code",
   "execution_count": 36,
   "metadata": {},
   "outputs": [
    {
     "name": "stdout",
     "output_type": "stream",
     "text": [
      "solucao Inicial : 10 f(inicial) :  -104.5623790762907\n"
     ]
    },
    {
     "data": {
      "text/plain": [
       "np.float64(0.01447682249761282)"
      ]
     },
     "execution_count": 36,
     "metadata": {},
     "output_type": "execute_result"
    }
   ],
   "source": [
    "f = lambda x:  -1 * (x **2 + 4 + np.cos(x**3))\n",
    "x,p  = caminhadaAleatoria(f, 10, 100, memoria=True)\n",
    "x"
   ]
  },
  {
   "cell_type": "code",
   "execution_count": 37,
   "metadata": {},
   "outputs": [
    {
     "data": {
      "image/png": "[encoded data removed]",
      "text/plain": [
       "<Figure size 1500x500 with 1 Axes>"
      ]
     },
     "metadata": {},
     "output_type": "display_data"
    }
   ],
   "source": [
    "plt.figure(figsize=(15,5))\n",
    "plt.plot(p,f(p), color='red', marker='>')   \n",
    "plt.show()"
   ]
  },
  {
   "cell_type": "markdown",
   "metadata": {},
   "source": [
    "#### Subida da colina com reinicioa aleatorio\n",
    "Vamos combiniar a subida da colina com o reinicio aleatorio no qual realizamos uma subida na colina e depois de um tempo retornamos para outra solução inicial.\n"
   ]
  },
  {
   "cell_type": "markdown",
   "metadata": {},
   "source": [
    "```pseudo\n",
    "entrada : S inicial\n",
    "saida   : S otimo\n",
    "\n",
    "inicio:\n",
    "    SOLUCAO_INICIAL <- S\n",
    "    B <- S\n",
    "    ENQUANTO <condição 1> FAÇA:\n",
    "        ENQUANTO <condição 2> FAÇA:\n",
    "            R <- Ajustar(S)\n",
    "            SE Q(R) > Q(S) ENTÃO:\n",
    "                S <- R\n",
    "            END\n",
    "        END\n",
    "        SE Q(S) > Q(B) ENTÃO:\n",
    "            B <- S\n",
    "        END\n",
    "        S <- SOLUCAO_INICIAL\n",
    "    END\n",
    "    RETURN B\n",
    "```"
   ]
  },
  {
   "cell_type": "code",
   "execution_count": 38,
   "metadata": {},
   "outputs": [],
   "source": [
    "def ajustarCR(solucao):\n",
    "    stocastic = np.random.normal(loc=solucao, scale=0.5, size=2)\n",
    "    return stocastic[np.argmax(f(stocastic))]\n",
    "\n",
    "\n",
    "def subidaColinaReinicio(f, inicio, maxIter=100, memoria=False):\n",
    "    pontos = []\n",
    "    iter_ = 0\n",
    "    B = solucao_inicial = inicio\n",
    "    count_  = 0\n",
    "    countB_ = 0\n",
    "\n",
    "    while iter_ != maxIter:\n",
    "        iterRandom_, iterW = int(random.randint(10, maxIter//3)), 0\n",
    "\n",
    "        while iterW != iterRandom_:\n",
    "            R = ajustarCR(inicio)\n",
    "\n",
    "            if np.isinf(f(R)): break\n",
    "            \n",
    "            if f(R) > f(inicio):            \n",
    "                inicio = R\n",
    "                count_ += 1\n",
    "            iterW += 1\n",
    "            \n",
    "        if f(inicio) > f(B):\n",
    "            B = inicio\n",
    "            countB_ += 1\n",
    "            if memoria: pontos.append(B)\n",
    "        \n",
    "        inicio = solucao_inicial\n",
    "        iter_ += 1\n",
    "    print(f\"\"\"\n",
    "          RESULTADOS\n",
    "Solucao inicial......: {solucao_inicial}  \n",
    "    > f(inicial).: {f(inicio)}\n",
    "\n",
    "Melhor solução.......: {B}              \n",
    "    > f(B).......: {f(B)}\n",
    "B foi modificado.....: {countB_}\n",
    "R foi modificado.....: {count_}\n",
    "\"\"\")\n",
    "    return B, np.array(pontos)"
   ]
  },
  {
   "cell_type": "code",
   "execution_count": 39,
   "metadata": {},
   "outputs": [
    {
     "name": "stdout",
     "output_type": "stream",
     "text": [
      "\n",
      "          RESULTADOS\n",
      "Solucao inicial......: -100  \n",
      "    > f(inicial).: -9995.063247872467\n",
      "\n",
      "Melhor solução.......: 0.00022139326265313564              \n",
      "    > f(B).......: 4.999999950985023\n",
      "B foi modificado.....: 6\n",
      "R foi modificado.....: 125061\n",
      "\n"
     ]
    }
   ],
   "source": [
    "f = lambda x:  -1 * x **2 + 4 + np.cos(x**3)\n",
    "x, p  = subidaColinaReinicio(f, -100, 1000, memoria=True)"
   ]
  },
  {
   "cell_type": "code",
   "execution_count": 40,
   "metadata": {},
   "outputs": [
    {
     "data": {
      "text/plain": [
       "[<matplotlib.lines.Line2D at 0x2556d69bcb0>]"
      ]
     },
     "execution_count": 40,
     "metadata": {},
     "output_type": "execute_result"
    },
    {
     "data": {
      "image/png": "[encoded data removed]",
      "text/plain": [
       "<Figure size 640x480 with 1 Axes>"
      ]
     },
     "metadata": {},
     "output_type": "display_data"
    }
   ],
   "source": [
    "pi = np.arange(-20,1,0.0001)\n",
    "plt.plot(pi,f(pi))\n",
    "plt.plot(p,f(p), color='red', marker='o')"
   ]
  },
  {
   "cell_type": "markdown",
   "metadata": {},
   "source": [
    "### Operador ajustar\n",
    "Vamos que entre as caracteristicas exigidas para a aplicação das metaheuristicas está a capacidade de transformar uma solução em outra solução através da operação que chamamos ajustar.\n",
    "Não existe a priori uma definição unica para essa operação ele costuma ser dependente da estrutura de representações das soluções.\n",
    "Há, contudo, uma nação de que a modificação promovida é pequena e de natureza estocatica. Dessa forma a partida de uma solução S, e conj. de ajustes possíveis define uma vizinhança de S, ou seja todos as soluções alcançaveis a partir de S atraves de uma operação de Ajuste. Timpicamente este é um conj. pequeno se comparado ao conj. de todas as possíveis soluções do ploblema, o que torna o processo de otimização possivel.\n",
    "\n",
    "Exemplo de AJUSTE\n",
    "1. Representar atraves de um vetor\n",
    "    * [ | | | x | | | | |] sortear uma posição e modificar o valor\n",
    "    * [ | | x | | | | | | |] sortear uma posição e incrementar/decrementar o valor\n",
    "\n",
    "2. Representação através de um permutação\n",
    "    * Sortear duar posições e troca-las de um lugar\n",
    "    * Sortear uma posição e trocar dois valores adjacentes\n"
   ]
  },
  {
   "cell_type": "code",
   "execution_count": 41,
   "metadata": {},
   "outputs": [
    {
     "data": {
      "text/plain": [
       "[3]"
      ]
     },
     "execution_count": 41,
     "metadata": {},
     "output_type": "execute_result"
    }
   ],
   "source": [
    "random.choices([1 , 2 , 3 , 4])"
   ]
  },
  {
   "cell_type": "code",
   "execution_count": 42,
   "metadata": {},
   "outputs": [
    {
     "name": "stdout",
     "output_type": "stream",
     "text": [
      "[0, 2, 3, 4, 5]\n"
     ]
    }
   ],
   "source": [
    "import random\n",
    "\n",
    "def ajustar_valor(lista):\n",
    "    # Sortear uma posição aleatória\n",
    "    posicao = random.randint(0, len(lista) - 1)\n",
    "    \n",
    "    # Incrementar ou decrementar o valor na posição sorteada\n",
    "    lista[posicao] += random.choice([-1, 1])\n",
    "    \n",
    "    return lista\n",
    "\n",
    "# Exemplo de uso\n",
    "lista = [1, 2, 3, 4, 5]\n",
    "nova_lista = ajustar_valor(lista)\n",
    "print(nova_lista)"
   ]
  },
  {
   "cell_type": "markdown",
   "metadata": {},
   "source": [
    "### Recozimento Simulado"
   ]
  },
  {
   "cell_type": "markdown",
   "metadata": {},
   "source": [
    "Em metaheurísticas, **recozimento simulado** refere-se a um algoritmo inspirado no processo de recozimento térmico, utilizado para resolver problemas combinatórios ou otimização global. Ele é amplamente utilizado em diversas aplicações, como:\n",
    "\n",
    "### Definição:\n",
    "O **recozimento simulado** é uma metaheurística que busca minimizar uma função objetiva por meio da exploração de vizinhanças em estados possíveis, ao longo de várias iterações, similar ao processo de resfriamento controlado em materiais metálicos.\n",
    "\n",
    "### Funcionamento Geral:\n",
    "1. **Inicialização**: Inicia-se com uma solução inicial aleatória.\n",
    "2. **Avaliação**: A solução atual é avaliada com base em uma função objetivo.\n",
    "3. **Movimento**: Em cada iteração, uma nova solução vizinha é gerada.\n",
    "4. **Aceitação**: A nova solução é aceita com base em critérios probabilísticos que consideram a diferença na função objetivo entre a solução anterior e a nova. A aceitação é mais provável quando a diferença é pequena, mas também pode ocorrer com diferenças maiores, dependendo da temperatura simulada.\n",
    "5. **Resfriamento**: A temperatura simulada diminui gradualmente ao longo das iterações, o que reduz a possibilidade de aceitar mudanças drásticas na solução.\n",
    "\n",
    "### Propósito do Recozimento Simulado em Metaheurísticas:\n",
    "- Explorar o espaço de solução globalmente enquanto permite explorar soluções locais.\n",
    "- Evitar a convergência rápida para soluções subótimas.\n",
    "- Melhorar a eficiência da busca por soluções ótimas em problemas complexos de otimização.\n",
    "\n",
    "### Aplicações:\n",
    "- **Otimização de roteamento** (VRP - Vehicle Routing Problem).\n",
    "- **Ajuste de parâmetros** em modelos de machine learning.\n",
    "- **Design de circuitos** e outros problemas combinatórios.\n",
    "\n",
    "O recozimento simulado é uma ferramenta poderosa para lidar com problemas onde há um grande número de combinações possíveis e soluções locais muitas vezes podem ser subótimas."
   ]
  },
  {
   "cell_type": "markdown",
   "metadata": {},
   "source": [
    "```pseudo\n",
    "B <- S\n",
    "T <- temperatura inicial\n",
    "ENQUANTO <CONDICAO> E T > 0 FAÇA:\n",
    "    R <- Ajustar(S)\n",
    "    P <- ALEATORIO(0,1)\n",
    "\n",
    "    SE Q(S) > Q(R) OU P < exp({Q(R) -Q(S)}/{t})\n",
    "        S <- R\n",
    "    END\n",
    "    SE Q(S) > Q(B) ENTÃO:\n",
    "        B <- S\n",
    "    END\n",
    "    DECREMENTA T\n",
    "END\n",
    "RETURN B     \n",
    "```"
   ]
  },
  {
   "cell_type": "markdown",
   "metadata": {},
   "source": [
    "> O recozimento simulado apresenta a seguinte proposta:   \n",
    "> Inicialmente vamos começar com alta prob. de aceitar a solução piores como referencia e essa prob. vai decrescendo lentamente ao longo das iterações ate que o algoritmo chega a um comportamento de subida da colina. De fato a  parte de um parametro de temperatura T, e prob. de aceitar a solução R no lugar de S é:"
   ]
  },
  {
   "cell_type": "code",
   "execution_count": 43,
   "metadata": {},
   "outputs": [],
   "source": [
    "import random\n",
    "import math\n",
    "\n",
    "def ajustarRS(s):\n",
    "    return s + random.uniform(-1, 1)\n",
    "\n",
    "# Recozimento Simulado\n",
    "def recozimento_simulado(f, inicio, temperatura, resfriamento, maxIter):\n",
    "    # Inicializar solução inicial aleatória\n",
    "    B = inicio\n",
    "    valor_atual = f(inicio)\n",
    "    iter_ = 0\n",
    "    while iter_ != maxIter and temperatura > 0:\n",
    "        # Gerar solução vizinha\n",
    "        R = ajustarRS(inicio) \n",
    "        \n",
    "        P = random.uniform(0, 1)\n",
    "        # Aceitação da solução\n",
    "        if f(inicio) > f(R) or P < np.exp((f(R) - f(inicio)) / temperatura):\n",
    "            inicio  = R\n",
    "        if f(inicio) > f(B):\n",
    "            B = inicio\n",
    "        \n",
    "        # Resfriamento\n",
    "        temperatura -= resfriamento\n",
    "\n",
    "    return B, valor_atual"
   ]
  },
  {
   "cell_type": "code",
   "execution_count": 44,
   "metadata": {},
   "outputs": [
    {
     "name": "stdout",
     "output_type": "stream",
     "text": [
      "Solução ótima.: x = -6.004709534251423\n",
      " valor ótimo..: -74.81360652868695\n"
     ]
    },
    {
     "name": "stderr",
     "output_type": "stream",
     "text": [
      "C:\\Users\\mateu\\AppData\\Local\\Temp\\ipykernel_13276\\2314277346.py:19: RuntimeWarning: overflow encountered in exp\n",
      "  if f(inicio) > f(R) or P < np.exp((f(R) - f(inicio)) / temperatura):\n"
     ]
    }
   ],
   "source": [
    "inicio = random.uniform(-10, 10)  # Solução inicial aleatória\n",
    "temperatura = 1000                # Temperatura inicial\n",
    "resfriamento = 0.095              # Taxa de resfriamento\n",
    "it_max = 1000                     # Número máximo de iterações\n",
    "\n",
    "# Função objetivo: maximizar x^2 - 10 * cos(2 * π * x)\n",
    "f = lambda x: -1*(x**2 - 10 * math.cos(2 * x))\n",
    "\n",
    "melhor_solucao, melhor_valor = recozimento_simulado(f,inicio, temperatura, resfriamento, 1000)\n",
    "print(f'Solução ótima.: x = {melhor_solucao}\\n valor ótimo..: {melhor_valor}')\n"
   ]
  },
  {
   "cell_type": "code",
   "execution_count": 45,
   "metadata": {},
   "outputs": [],
   "source": [
    "p = np.arange(-10, 10, 0.1)\n",
    "resultados = np.vectorize(f)(p)"
   ]
  },
  {
   "cell_type": "code",
   "execution_count": 46,
   "metadata": {},
   "outputs": [
    {
     "data": {
      "text/plain": [
       "[<matplotlib.lines.Line2D at 0x2556d7035f0>]"
      ]
     },
     "execution_count": 46,
     "metadata": {},
     "output_type": "execute_result"
    },
    {
     "data": {
      "image/png": "[encoded data removed]",
      "text/plain": [
       "<Figure size 640x480 with 1 Axes>"
      ]
     },
     "metadata": {},
     "output_type": "display_data"
    }
   ],
   "source": [
    "plt.plot(p, resultados)\n",
    "plt.plot(melhor_solucao, f(melhor_solucao), color='red', marker='o')"
   ]
  },
  {
   "cell_type": "code",
   "execution_count": 47,
   "metadata": {},
   "outputs": [
    {
     "data": {
      "text/plain": [
       "(-6.004709534251423, -27.567831906001118)"
      ]
     },
     "execution_count": 47,
     "metadata": {},
     "output_type": "execute_result"
    }
   ],
   "source": [
    "melhor_solucao, f(melhor_solucao)"
   ]
  },
  {
   "cell_type": "markdown",
   "metadata": {},
   "source": [
    "### Busca Tabu\n",
    "A busca tabu é um método que define uma lista de soluções proibidas para evitar a repetição e garantir a exploração de novas regioes do espaço de soluções. De fato, funciona como uma subida da colina de maxima inclinação mas cada vez que uma nova solução é atingida a anterior é adicionada na list de soluções tabu, para que as quais não é possivel retornar.\n",
    "\n",
    "\n",
    "> Esta lista é relativa - quando ela está cheia o elemento mais antigo é removido."
   ]
  },
  {
   "cell_type": "markdown",
   "metadata": {},
   "source": [
    "```pseudo\n",
    "inicio:\n",
    "    B <- S\n",
    "    T <- []\n",
    "    ENQUANTO <condição> FAÇA:\n",
    "        INCLUIR(T, S)\n",
    "        S <- ARG MAX {Q(R): R pertence VIZINHANÇA(S)\\T}\n",
    "\n",
    "        SE Q(S) > Q(B) ENTÃO:\n",
    "            B <- S\n",
    "        END\n",
    "    END\n",
    "    RETURN B\n",
    "END\n",
    "```"
   ]
  },
  {
   "cell_type": "code",
   "execution_count": 48,
   "metadata": {},
   "outputs": [],
   "source": [
    "def incluir(T, S, limit = 5):\n",
    "    if len(T) != limit:\n",
    "        T.append(S)\n",
    "        return T\n",
    "    del T[0]\n",
    "    T.append(S)\n",
    "    return T\n",
    "\n",
    "\n",
    "def ajustaBT(f, s, T, size_=2):\n",
    "    s_ =  np.around(np.random.uniform(-1, 1, size=size_), 4).tolist()\n",
    "\n",
    "    s_ = np.array([ i for i in s_ if i not in T], dtype=np.float32)\n",
    "    \n",
    "    return s_[np.argmax(f(s_))]\n",
    "\n",
    "def buscaTabu(f, S, limit=5, maxIter=100, memoria = False, tamConjunto=2):\n",
    "    pontos_ = [S]   \n",
    "    T = []\n",
    "    B = S\n",
    "    iter_ = 0\n",
    "    while iter_ != maxIter:        \n",
    "        # Incluir a solução na lista tabu\n",
    "        T = incluir(T, S, limit)\n",
    "        \n",
    "\n",
    "        # Gerar solução vizinh\n",
    "        S = ajustaBT(f, S, T,size_=tamConjunto)\n",
    "        \n",
    "        if f(S) > f(B):\n",
    "            B = S\n",
    "            print(S)\n",
    "            if memoria: pontos_.append(B)\n",
    "        iter_ += 1\n",
    "    return B, np.array(pontos_)"
   ]
  },
  {
   "cell_type": "code",
   "execution_count": 49,
   "metadata": {},
   "outputs": [
    {
     "name": "stdout",
     "output_type": "stream",
     "text": [
      "-0.1665\n",
      "-0.2253\n"
     ]
    },
    {
     "data": {
      "text/plain": [
       "np.float32(-0.2253)"
      ]
     },
     "execution_count": 49,
     "metadata": {},
     "output_type": "execute_result"
    }
   ],
   "source": [
    "f = lambda x: -1*(np.pi*x**2 -10 * np.sin(10 *  x*2))\n",
    "x, p = buscaTabu(f, 5, 5, 10, memoria=True)\n",
    "x"
   ]
  },
  {
   "cell_type": "code",
   "execution_count": 50,
   "metadata": {},
   "outputs": [
    {
     "data": {
      "text/plain": [
       "[<matplotlib.lines.Line2D at 0x2556d795670>]"
      ]
     },
     "execution_count": 50,
     "metadata": {},
     "output_type": "execute_result"
    },
    {
     "data": {
      "image/png": "[encoded data removed]",
      "text/plain": [
       "<Figure size 640x480 with 1 Axes>"
      ]
     },
     "metadata": {},
     "output_type": "display_data"
    }
   ],
   "source": [
    "pi = np.arange(-5, 5,0.01)\n",
    "fxs = np.vectorize(f)(pi)\n",
    "\n",
    "\n",
    "plt.plot(pi, fxs)\n",
    "plt.plot(p, np.vectorize(f)(p), color='red', marker='o')"
   ]
  },
  {
   "cell_type": "markdown",
   "metadata": {},
   "source": [
    "Quando o conj. de soluções é muito grande a proibição de soluções individualmente é pouco eficaz, pois exige uma lista tabu muito grande para garantir uma diversificação satisfatória. O tamanho da lista pode ser um empecilho para eficiencia e calibragem do método. Neste sentido, uma alternativa é ter uma lista tabu com caracteristicas proibidas no qual ao inver de proibir soluções individualmente vamos proibir um caracteristicas que compõem essa solução."
   ]
  },
  {
   "cell_type": "markdown",
   "metadata": {},
   "source": [
    "```pseudo\n",
    "INICIO:\n",
    "    B <- S\n",
    "    T <- vazio\n",
    "    ENQUANTO <condição> FAÇA:\n",
    "        Z <- ARG MAX { Q(R) : R pertence VIZINHAÇA(S)}\n",
    "        T <- T U CARACTERISTICAS(Z - S)\n",
    "        SE Q(Z) > Q(B) ENTÃO:\n",
    "            B <- Z\n",
    "        END\n",
    "    END\n",
    "    RETURN B\n",
    "```"
   ]
  },
  {
   "cell_type": "markdown",
   "metadata": {},
   "source": [
    "### Vizinhança"
   ]
  },
  {
   "cell_type": "markdown",
   "metadata": {},
   "source": []
  }
 ],
 "metadata": {
  "kernelspec": {
   "display_name": "Python 3",
   "language": "python",
   "name": "python3"
  },
  "language_info": {
   "codemirror_mode": {
    "name": "ipython",
    "version": 3
   },
   "file_extension": ".py",
   "mimetype": "text/x-python",
   "name": "python",
   "nbconvert_exporter": "python",
   "pygments_lexer": "ipython3",
   "version": "3.12.7"
  }
 },
 "nbformat": 4,
 "nbformat_minor": 2
}
